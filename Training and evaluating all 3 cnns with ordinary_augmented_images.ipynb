{
 "cells": [
  {
   "cell_type": "code",
   "execution_count": null,
   "id": "6e741b90",
   "metadata": {
    "jupyter": {
     "outputs_hidden": true
    },
    "tags": []
   },
   "outputs": [],
   "source": [
    "pip install scikeras"
   ]
  },
  {
   "cell_type": "code",
   "execution_count": null,
   "id": "26c6b06c",
   "metadata": {},
   "outputs": [],
   "source": [
    "pip install opencv-python"
   ]
  },
  {
   "cell_type": "code",
   "execution_count": null,
   "id": "1364073b",
   "metadata": {},
   "outputs": [],
   "source": [
    "!pip install tensorflow"
   ]
  },
  {
   "cell_type": "code",
   "execution_count": 1,
   "id": "ff1170c1",
   "metadata": {
    "tags": []
   },
   "outputs": [],
   "source": [
    "import pandas as pd\n",
    "import numpy as np\n",
    "import os\n",
    "import shutil\n",
    "import splitfolders\n",
    "import matplotlib.pyplot as plt\n",
    "from skimage import transform, io\n",
    "import random\n",
    "\n",
    "import tensorflow as tf\n",
    "from tensorflow import keras\n",
    "from tensorflow.keras import layers\n",
    "from tensorflow.keras.applications import InceptionV3, ResNet152, InceptionResNetV2\n",
    "from tensorflow.keras.layers import Dense, GlobalAveragePooling2D, Dropout, Flatten\n",
    "from tensorflow.keras.models import Model\n",
    "from tensorflow.keras.preprocessing.image import ImageDataGenerator\n",
    "from tensorflow.keras.models import Sequential\n",
    "from scikeras.wrappers import KerasClassifier\n",
    "\n",
    "from sklearn.model_selection import train_test_split\n",
    "from sklearn.ensemble import AdaBoostClassifier\n",
    "from sklearn.ensemble import StackingClassifier\n",
    "from sklearn.metrics import accuracy_score, classification_report, confusion_matrix, ConfusionMatrixDisplay, RocCurveDisplay, roc_auc_score,roc_curve, auc\n",
    "from sklearn.preprocessing import label_binarize\n",
    "from sklearn.model_selection import GridSearchCV\n",
    "\n",
    "import re\n",
    "import cv2\n",
    "from PIL import Image"
   ]
  },
  {
   "cell_type": "code",
   "execution_count": 2,
   "id": "56d66c73",
   "metadata": {
    "tags": []
   },
   "outputs": [
    {
     "data": {
      "text/html": [
       "<div>\n",
       "<style scoped>\n",
       "    .dataframe tbody tr th:only-of-type {\n",
       "        vertical-align: middle;\n",
       "    }\n",
       "\n",
       "    .dataframe tbody tr th {\n",
       "        vertical-align: top;\n",
       "    }\n",
       "\n",
       "    .dataframe thead th {\n",
       "        text-align: right;\n",
       "    }\n",
       "</style>\n",
       "<table border=\"1\" class=\"dataframe\">\n",
       "  <thead>\n",
       "    <tr style=\"text-align: right;\">\n",
       "      <th></th>\n",
       "      <th>id_code</th>\n",
       "      <th>diagnosis</th>\n",
       "    </tr>\n",
       "  </thead>\n",
       "  <tbody>\n",
       "    <tr>\n",
       "      <th>0</th>\n",
       "      <td>000c1434d8d7</td>\n",
       "      <td>2</td>\n",
       "    </tr>\n",
       "    <tr>\n",
       "      <th>1</th>\n",
       "      <td>001639a390f0</td>\n",
       "      <td>4</td>\n",
       "    </tr>\n",
       "    <tr>\n",
       "      <th>2</th>\n",
       "      <td>0024cdab0c1e</td>\n",
       "      <td>1</td>\n",
       "    </tr>\n",
       "    <tr>\n",
       "      <th>3</th>\n",
       "      <td>002c21358ce6</td>\n",
       "      <td>0</td>\n",
       "    </tr>\n",
       "    <tr>\n",
       "      <th>4</th>\n",
       "      <td>005b95c28852</td>\n",
       "      <td>0</td>\n",
       "    </tr>\n",
       "  </tbody>\n",
       "</table>\n",
       "</div>"
      ],
      "text/plain": [
       "        id_code  diagnosis\n",
       "0  000c1434d8d7          2\n",
       "1  001639a390f0          4\n",
       "2  0024cdab0c1e          1\n",
       "3  002c21358ce6          0\n",
       "4  005b95c28852          0"
      ]
     },
     "execution_count": 2,
     "metadata": {},
     "output_type": "execute_result"
    }
   ],
   "source": [
    "df = pd.read_csv(r\"C:\\Users\\n1109899\\Downloads\\aptos2019-blindness-detection\\train.csv\", delimiter=\",\")\n",
    "df.head()"
   ]
  },
  {
   "cell_type": "code",
   "execution_count": 3,
   "id": "5da5a3ee",
   "metadata": {
    "tags": []
   },
   "outputs": [
    {
     "data": {
      "text/plain": [
       "[0, 1, 2, 3, 4]"
      ]
     },
     "execution_count": 3,
     "metadata": {},
     "output_type": "execute_result"
    }
   ],
   "source": [
    "# Retriving the class list\n",
    "class_list = df[\"diagnosis\"].unique()\n",
    "class_list = [int(item) for item in class_list if not np.isnan(item)]\n",
    "class_list = sorted(class_list)\n",
    "class_list"
   ]
  },
  {
   "cell_type": "markdown",
   "id": "3537851a",
   "metadata": {},
   "source": [
    "## Load and Split dataset"
   ]
  },
  {
   "cell_type": "code",
   "execution_count": 4,
   "id": "88773b41",
   "metadata": {
    "tags": []
   },
   "outputs": [],
   "source": [
    "# specify image folder\n",
    "image_folder = 'train_images'\n",
    "extension = '.png'"
   ]
  },
  {
   "cell_type": "code",
   "execution_count": 5,
   "id": "c4036046",
   "metadata": {
    "tags": []
   },
   "outputs": [
    {
     "data": {
      "text/plain": [
       "0"
      ]
     },
     "execution_count": 5,
     "metadata": {},
     "output_type": "execute_result"
    }
   ],
   "source": [
    "# check for dublicates\n",
    "df.duplicated().sum()"
   ]
  },
  {
   "cell_type": "code",
   "execution_count": 6,
   "id": "4c8b0f74",
   "metadata": {
    "tags": []
   },
   "outputs": [
    {
     "data": {
      "text/plain": [
       "Index(['id_code', 'diagnosis'], dtype='object')"
      ]
     },
     "execution_count": 6,
     "metadata": {},
     "output_type": "execute_result"
    }
   ],
   "source": [
    "# get label df columns\n",
    "df.columns"
   ]
  },
  {
   "cell_type": "code",
   "execution_count": 22,
   "id": "75379ed6",
   "metadata": {
    "tags": []
   },
   "outputs": [
    {
     "name": "stderr",
     "output_type": "stream",
     "text": [
      "C:\\Users\\n1109899\\AppData\\Local\\Temp/ipykernel_11312/182509564.py:15: VisibleDeprecationWarning: Creating an ndarray from ragged nested sequences (which is a list-or-tuple of lists-or-tuples-or ndarrays with different lengths or shapes) is deprecated. If you meant to do this, you must specify 'dtype=object' when creating the ndarray.\n",
      "  train_set = np.array(train_)\n"
     ]
    }
   ],
   "source": [
    "# order and load all images and labels into arrays\n",
    "train_ = []\n",
    "label_ = []\n",
    "data = []\n",
    "dims = 299\n",
    "for image in df[\"id_code\"]:\n",
    "    image_file = cv2.imread(os.path.join(image_folder,image+extension))\n",
    "    #image_file = cv2.resize(image_file,(dims,dims))\n",
    "    idx = df[\"id_code\"].tolist().index(image)\n",
    "    label = df[\"diagnosis\"][idx]\n",
    "    \n",
    "    train_.append(image_file)\n",
    "    label_.append(label)\n",
    "\n",
    "train_set = np.array(train_)\n",
    "train_label = np.array(label_)"
   ]
  },
  {
   "cell_type": "code",
   "execution_count": 46,
   "id": "46c6ab02",
   "metadata": {
    "tags": []
   },
   "outputs": [],
   "source": [
    "X_train1,X_test,y_train1,y_test = train_test_split(train_set,train_label,test_size=0.2, shuffle = True, random_state=42)"
   ]
  },
  {
   "cell_type": "code",
   "execution_count": 47,
   "id": "84f7a165",
   "metadata": {
    "tags": []
   },
   "outputs": [],
   "source": [
    "X_train, X_val, y_train, y_val = train_test_split(X_train1, y_train1, test_size = 0.2, shuffle = True, random_state = True)"
   ]
  },
  {
   "cell_type": "code",
   "execution_count": 48,
   "id": "7d892f00-9738-4003-9fb4-2eaaa5ca8d7b",
   "metadata": {
    "tags": []
   },
   "outputs": [
    {
     "data": {
      "text/plain": [
       "((2343,), (733,), (586,))"
      ]
     },
     "execution_count": 48,
     "metadata": {},
     "output_type": "execute_result"
    }
   ],
   "source": [
    "X_train.shape,X_test.shape, X_val.shape"
   ]
  },
  {
   "cell_type": "code",
   "execution_count": 49,
   "id": "d1833d79",
   "metadata": {
    "tags": []
   },
   "outputs": [
    {
     "data": {
      "text/plain": [
       "((2343,), (733,), (586,))"
      ]
     },
     "execution_count": 49,
     "metadata": {},
     "output_type": "execute_result"
    }
   ],
   "source": [
    "y_train.shape,y_test.shape, y_val.shape"
   ]
  },
  {
   "cell_type": "code",
   "execution_count": 50,
   "id": "fd3469b8",
   "metadata": {
    "tags": []
   },
   "outputs": [
    {
     "data": {
      "text/plain": [
       "<matplotlib.image.AxesImage at 0x26a86373cd0>"
      ]
     },
     "execution_count": 50,
     "metadata": {},
     "output_type": "execute_result"
    },
    {
     "data": {
      "image/png": "[encoded data removed]",
      "text/plain": [
       "<Figure size 432x288 with 1 Axes>"
      ]
     },
     "metadata": {
      "needs_background": "light"
     },
     "output_type": "display_data"
    }
   ],
   "source": [
    "plt.imshow(X_val[76])"
   ]
  },
  {
   "cell_type": "markdown",
   "id": "1acc0f1c",
   "metadata": {},
   "source": [
    "## Augment train set"
   ]
  },
  {
   "cell_type": "code",
   "execution_count": 51,
   "id": "f3cc810c",
   "metadata": {},
   "outputs": [],
   "source": [
    "def adjust_contrast(image):\n",
    "    return tf.image.adjust_contrast(image,2)\n",
    "\n",
    "def adjust_brightness(image):\n",
    "    return tf.image.adjust_brightness(image,0.2)\n",
    "\n",
    "def adjust_saturation(image):\n",
    "    return tf.image.adjust_saturation(image,10)\n",
    "\n",
    "def adjust_hue(image):\n",
    "    return tf.image.adjust_hue(image,-0.1)\n",
    "\n",
    "def adjust_flip(image):\n",
    "    return tf.image.random_flip_left_right(image)"
   ]
  },
  {
   "cell_type": "code",
   "execution_count": 52,
   "id": "e0210e01",
   "metadata": {},
   "outputs": [],
   "source": [
    "augmentations = [adjust_contrast,adjust_brightness,adjust_saturation,adjust_hue,adjust_flip]"
   ]
  },
  {
   "cell_type": "code",
   "execution_count": 53,
   "id": "781a08a3",
   "metadata": {},
   "outputs": [],
   "source": [
    "def random_augmentation(data):\n",
    "    augmented_images = []\n",
    "    \n",
    "    for index, image in enumerate(data):\n",
    "        random_augmentation = random.choice(augmentations)\n",
    "        aug_img = random_augmentation(image)\n",
    "        \n",
    "        index = index + 1\n",
    "        \n",
    "        if ((index % 2) == 0):\n",
    "            aug_img = np.array(random_augmentation(image))\n",
    "            augmented_images.append(aug_img)\n",
    "        else:\n",
    "            augmented_images.append(image)\n",
    "    return augmented_images"
   ]
  },
  {
   "cell_type": "code",
   "execution_count": 54,
   "id": "ad71a3bc",
   "metadata": {},
   "outputs": [],
   "source": [
    "X_train = random_augmentation(X_train) # This is a list for now"
   ]
  },
  {
   "cell_type": "code",
   "execution_count": 44,
   "id": "f3d34b1b",
   "metadata": {},
   "outputs": [],
   "source": [
    "X_train = np.array(X_train)"
   ]
  },
  {
   "cell_type": "code",
   "execution_count": 55,
   "id": "d95ccc00",
   "metadata": {},
   "outputs": [
    {
     "data": {
      "image/png": "[encoded data removed]",
      "text/plain": [
       "<Figure size 432x288 with 1 Axes>"
      ]
     },
     "metadata": {
      "needs_background": "light"
     },
     "output_type": "display_data"
    }
   ],
   "source": [
    "temp = cv2.cvtColor(X_train[45], cv2.COLOR_BGR2RGB)\n",
    "plt.imshow(temp)\n",
    "plt.show()"
   ]
  },
  {
   "cell_type": "markdown",
   "id": "ab8688e3",
   "metadata": {},
   "source": [
    "### Resize and Rescale"
   ]
  },
  {
   "cell_type": "code",
   "execution_count": 56,
   "id": "65037d92",
   "metadata": {},
   "outputs": [],
   "source": [
    "def resizeImages(images):\n",
    "    resized_aug_images = []\n",
    "    for img in images:\n",
    "        img = cv2.resize(img,(299,299))\n",
    "\n",
    "        resized_aug_images.append(img)\n",
    "    return resized_aug_images"
   ]
  },
  {
   "cell_type": "code",
   "execution_count": 57,
   "id": "e81a36ac",
   "metadata": {},
   "outputs": [],
   "source": [
    "X_train = resizeImages(X_train)\n",
    "X_train = np.array(X_train)"
   ]
  },
  {
   "cell_type": "code",
   "execution_count": 60,
   "id": "f004bdc4",
   "metadata": {},
   "outputs": [
    {
     "data": {
      "text/plain": [
       "(2343, 299, 299, 3)"
      ]
     },
     "execution_count": 60,
     "metadata": {},
     "output_type": "execute_result"
    }
   ],
   "source": [
    "X_train.shape"
   ]
  },
  {
   "cell_type": "code",
   "execution_count": 61,
   "id": "b36d5525",
   "metadata": {},
   "outputs": [],
   "source": [
    "X_val = resizeImages(X_val)\n",
    "X_val = np.array(X_val)"
   ]
  },
  {
   "cell_type": "code",
   "execution_count": 62,
   "id": "f601ae49",
   "metadata": {},
   "outputs": [
    {
     "data": {
      "text/plain": [
       "(733, 299, 299, 3)"
      ]
     },
     "execution_count": 62,
     "metadata": {},
     "output_type": "execute_result"
    }
   ],
   "source": [
    "X_test = resizeImages(X_test)\n",
    "X_test = np.array(X_test)\n",
    "X_test.shape"
   ]
  },
  {
   "cell_type": "code",
   "execution_count": 64,
   "id": "9f5c8dc1",
   "metadata": {
    "tags": []
   },
   "outputs": [],
   "source": [
    "# function to scale images\n",
    "def scale(dataset):\n",
    "    factor = 255.0\n",
    "    dataset = dataset/factor\n",
    "    return dataset"
   ]
  },
  {
   "cell_type": "code",
   "execution_count": 65,
   "id": "b7a72599",
   "metadata": {
    "tags": []
   },
   "outputs": [],
   "source": [
    "# scale images\n",
    "X_train= scale(X_train)\n",
    "X_val = scale(X_val)\n",
    "X_test = scale(X_test)"
   ]
  },
  {
   "cell_type": "markdown",
   "id": "44d3437f",
   "metadata": {},
   "source": [
    "## Evaluation functions"
   ]
  },
  {
   "cell_type": "code",
   "execution_count": 67,
   "id": "992b06f5-2c47-48d8-96c2-86e4ecf7b9ab",
   "metadata": {
    "tags": []
   },
   "outputs": [],
   "source": [
    "# Accuracy and Loss curves\n",
    "def plot_acc_loss(model_history):\n",
    "    train_acc = model_history.history['accuracy']\n",
    "    val_acc = model_history.history['val_accuracy']\n",
    "\n",
    "    train_loss = model_history.history['loss']\n",
    "    val_loss = model_history.history['val_loss']\n",
    "\n",
    "    plt.figure(figsize=(10, 3))\n",
    "    plt.subplot(1, 2, 1)\n",
    "    plt.plot(train_acc, label='Training Accuracy')\n",
    "    plt.plot(val_acc, label='Validation Accuracy')\n",
    "    plt.legend(loc='lower right')\n",
    "    plt.ylabel('Accuracy')\n",
    "    plt.xlabel('Epoch')\n",
    "    plt.title('Training and Validation Accuracy')\n",
    "\n",
    "    plt.subplot(1, 2, 2)\n",
    "    plt.plot(train_loss, label='Training Loss')\n",
    "    plt.plot(val_loss, label='Validation Loss')\n",
    "    plt.legend(loc='upper right')\n",
    "    plt.ylabel('Loss')\n",
    "    plt.title('Training and Validation Loss')\n",
    "    plt.xlabel('Epoch')\n",
    "    plt.show()"
   ]
  },
  {
   "cell_type": "code",
   "execution_count": 68,
   "id": "17268a69-864d-4f2a-a7f8-900351b002e1",
   "metadata": {
    "tags": []
   },
   "outputs": [],
   "source": [
    "# display confusion matrix heatmap\n",
    "def confusion_heatmap(cm):\n",
    "    disp = ConfusionMatrixDisplay(confusion_matrix=cm)\n",
    "    fig, ax = plt.subplots(figsize=(7,4), dpi=100)\n",
    "    ax.set(title='Confusion Matrix for the InceptionV3 model')\n",
    "    disp.plot(ax = ax)\n",
    "    plt.show()"
   ]
  },
  {
   "cell_type": "code",
   "execution_count": 69,
   "id": "380afe33-00d1-4abc-aec1-528678db30c4",
   "metadata": {
    "tags": []
   },
   "outputs": [],
   "source": [
    "# calculate weighted_average specificity\n",
    "def weighted_average_specificity(cm):\n",
    "    num_classes = 5\n",
    "    class_counts = []\n",
    "\n",
    "    for class_label in range(num_classes):\n",
    "        # Create  binary classification for the current class\n",
    "        binary_test = [1 if label == class_label else 0 for label in y_test]\n",
    "         # Count the number of samples for the current class\n",
    "        class_counts.append(sum(binary_test))\n",
    "    print(class_counts)   \n",
    "\n",
    "    fp = cm.sum(axis=0) - np.diag(cm)  \n",
    "    fn = cm.sum(axis=1) - np.diag(cm)\n",
    "    tp = np.diag(cm)\n",
    "    tn = cm.sum() - (fp + fn + tp)\n",
    "    specificity = tn/(tn+fp) \n",
    "\n",
    "    specificity = np.average(specificity, weights = class_counts)\n",
    "    return specificity"
   ]
  },
  {
   "cell_type": "code",
   "execution_count": 70,
   "id": "e84f8c5e-68d0-4e9b-9eda-c4923f999ca6",
   "metadata": {
    "tags": []
   },
   "outputs": [],
   "source": [
    "# calculate macro_average specificity\n",
    "def macro_average_specificity(cm):\n",
    "\n",
    "    fp = cm.sum(axis=0) - np.diag(cm)  \n",
    "    fn = cm.sum(axis=1) - np.diag(cm)\n",
    "    tp = np.diag(cm)\n",
    "    tn = cm.sum() - (fp + fn + tp)\n",
    "    specificity = tn/(tn+fp) \n",
    "\n",
    "    specificity =np.mean(specificity)\n",
    "    return specificity"
   ]
  },
  {
   "cell_type": "code",
   "execution_count": 71,
   "id": "d2e334ae-243a-46c0-81c8-329c944e1bc3",
   "metadata": {
    "tags": []
   },
   "outputs": [],
   "source": [
    "# Calculate the micro-average AUC\n",
    "def micro_average_auc(y_pred):\n",
    "    \n",
    "    micro_avg_auc = roc_auc_score(y_test, y_pred, multi_class='ovr')\n",
    "    return micro_avg_auc\n",
    "\n"
   ]
  },
  {
   "cell_type": "code",
   "execution_count": 72,
   "id": "03fb0852-251c-4669-8131-00b9e0ce5787",
   "metadata": {
    "tags": []
   },
   "outputs": [],
   "source": [
    "# roc curve\n",
    "def roc_plot(y_pred):\n",
    "\n",
    "# Binarize actual test labels \n",
    "    y_test_cat = label_binarize(y_test, classes=np.arange(num_classes))\n",
    "\n",
    "    # Compute the ROC curve and AUC for the micro-average\n",
    "    fpr, tpr, _ = roc_curve(y_test_cat.ravel(), y_pred.ravel())\n",
    "   \n",
    "    # Plot the micro-average ROC curve\n",
    "    plt.figure(figsize=(6, 4))\n",
    "    \n",
    "    plt.plot(fpr, tpr, color='deeppink', linestyle='-', lw=1)         \n",
    "\n",
    "    plt.xlabel('False Positive Rate')\n",
    "    plt.ylabel('True Positive Rate')\n",
    "    plt.title('Micro-Average Receiver Operating Characteristic (ROC) Curve')\n",
    "    plt.show()\n"
   ]
  },
  {
   "cell_type": "markdown",
   "id": "bed1698a-c34c-44de-9e0f-dc5c22fd00a5",
   "metadata": {},
   "source": [
    "## Model Development and Training"
   ]
  },
  {
   "cell_type": "code",
   "execution_count": 73,
   "id": "7fd2e6f2-4cde-4648-a636-36a583ad1997",
   "metadata": {
    "tags": []
   },
   "outputs": [],
   "source": [
    "# function to build model\n",
    "def build_model(pre_trained_network):\n",
    "    base_model = pre_trained_network(weights = 'imagenet', include_top = False, input_shape = (dims,dims,colour_channel))\n",
    "    \n",
    "    for layers in base_model.layers:\n",
    "        layers.trainable = False\n",
    "\n",
    "    model = Sequential()\n",
    "    model.add(base_model)\n",
    "    model.add(GlobalAveragePooling2D())\n",
    "    model.add(Dropout(dropout))\n",
    "    model.add(Dense(num_classes, activation = 'softmax'))\n",
    "    print(model.summary())\n",
    "    \n",
    "    #compile model\n",
    "    #specify optimizer, loss and earlytopping\n",
    "    adam = tf.keras.optimizers.Adam(learning_rate = lr)\n",
    "    loss = tf.keras.losses.SparseCategoricalCrossentropy()\n",
    "\n",
    "    model.compile(optimizer = adam, loss = loss, metrics = METRICS)\n",
    "    \n",
    "    return model"
   ]
  },
  {
   "cell_type": "code",
   "execution_count": 74,
   "id": "7c87d791",
   "metadata": {},
   "outputs": [],
   "source": [
    "colour_channel =3\n",
    "epochs = 50\n",
    "lr = 0.001\n",
    "METRICS=['accuracy']\n",
    "batch_size = 32\n",
    "patience = 10\n",
    "num_classes = 5\n",
    "dropout = 0.5\n",
    "callback = tf.keras.callbacks.EarlyStopping(monitor = 'val_loss', patience = patience)"
   ]
  },
  {
   "cell_type": "markdown",
   "id": "4e158a90",
   "metadata": {},
   "source": [
    "### Build and train model 1 - Inception V3"
   ]
  },
  {
   "cell_type": "code",
   "execution_count": 75,
   "id": "22db2376-9c14-41e3-8a14-6393f5162e48",
   "metadata": {
    "tags": []
   },
   "outputs": [
    {
     "name": "stdout",
     "output_type": "stream",
     "text": [
      "Downloading data from https://storage.googleapis.com/tensorflow/keras-applications/inception_v3/inception_v3_weights_tf_dim_ordering_tf_kernels_notop.h5\n",
      "87910968/87910968 [==============================] - 3s 0us/step\n",
      "Model: \"sequential\"\n",
      "_________________________________________________________________\n",
      " Layer (type)                Output Shape              Param #   \n",
      "=================================================================\n",
      " inception_v3 (Functional)   (None, 8, 8, 2048)        21802784  \n",
      "                                                                 \n",
      " global_average_pooling2d (  (None, 2048)              0         \n",
      " GlobalAveragePooling2D)                                         \n",
      "                                                                 \n",
      " dropout (Dropout)           (None, 2048)              0         \n",
      "                                                                 \n",
      " dense (Dense)               (None, 5)                 10245     \n",
      "                                                                 \n",
      "=================================================================\n",
      "Total params: 21813029 (83.21 MB)\n",
      "Trainable params: 10245 (40.02 KB)\n",
      "Non-trainable params: 21802784 (83.17 MB)\n",
      "_________________________________________________________________\n",
      "None\n"
     ]
    }
   ],
   "source": [
    "InceptionV3_model = build_model(InceptionV3)"
   ]
  },
  {
   "cell_type": "code",
   "execution_count": 77,
   "id": "42ce9cf6",
   "metadata": {
    "tags": []
   },
   "outputs": [
    {
     "name": "stdout",
     "output_type": "stream",
     "text": [
      "Epoch 1/50\n",
      "74/74 [==============================] - 79s 1s/step - loss: 1.1462 - accuracy: 0.6018 - val_loss: 0.8335 - val_accuracy: 0.7048\n",
      "Epoch 2/50\n",
      "74/74 [==============================] - 77s 1s/step - loss: 0.8668 - accuracy: 0.6897 - val_loss: 0.7411 - val_accuracy: 0.7270\n",
      "Epoch 3/50\n",
      "74/74 [==============================] - 76s 1s/step - loss: 0.7654 - accuracy: 0.7209 - val_loss: 0.6832 - val_accuracy: 0.7406\n",
      "Epoch 4/50\n",
      "74/74 [==============================] - 77s 1s/step - loss: 0.7322 - accuracy: 0.7286 - val_loss: 0.6537 - val_accuracy: 0.7491\n",
      "Epoch 5/50\n",
      "74/74 [==============================] - 75s 1s/step - loss: 0.7015 - accuracy: 0.7345 - val_loss: 0.6452 - val_accuracy: 0.7594\n",
      "Epoch 6/50\n",
      "74/74 [==============================] - 75s 1s/step - loss: 0.6722 - accuracy: 0.7529 - val_loss: 0.6359 - val_accuracy: 0.7509\n",
      "Epoch 7/50\n",
      "74/74 [==============================] - 79s 1s/step - loss: 0.6470 - accuracy: 0.7516 - val_loss: 0.6058 - val_accuracy: 0.7662\n",
      "Epoch 8/50\n",
      "74/74 [==============================] - 81s 1s/step - loss: 0.6310 - accuracy: 0.7678 - val_loss: 0.6302 - val_accuracy: 0.7696\n",
      "Epoch 9/50\n",
      "74/74 [==============================] - 72s 976ms/step - loss: 0.6280 - accuracy: 0.7678 - val_loss: 0.6000 - val_accuracy: 0.7679\n",
      "Epoch 10/50\n",
      "74/74 [==============================] - 78s 1s/step - loss: 0.6027 - accuracy: 0.7746 - val_loss: 0.5977 - val_accuracy: 0.7696\n",
      "Epoch 11/50\n",
      "74/74 [==============================] - 77s 1s/step - loss: 0.5952 - accuracy: 0.7738 - val_loss: 0.6292 - val_accuracy: 0.7730\n",
      "Epoch 12/50\n",
      "74/74 [==============================] - 79s 1s/step - loss: 0.5935 - accuracy: 0.7764 - val_loss: 0.5870 - val_accuracy: 0.7730\n",
      "Epoch 13/50\n",
      "74/74 [==============================] - 77s 1s/step - loss: 0.5807 - accuracy: 0.7857 - val_loss: 0.5804 - val_accuracy: 0.7730\n",
      "Epoch 14/50\n",
      "74/74 [==============================] - 83s 1s/step - loss: 0.5814 - accuracy: 0.7836 - val_loss: 0.5988 - val_accuracy: 0.7645\n",
      "Epoch 15/50\n",
      "74/74 [==============================] - 82s 1s/step - loss: 0.5846 - accuracy: 0.7742 - val_loss: 0.5758 - val_accuracy: 0.7850\n",
      "Epoch 16/50\n",
      "74/74 [==============================] - 81s 1s/step - loss: 0.5660 - accuracy: 0.7823 - val_loss: 0.5640 - val_accuracy: 0.7850\n",
      "Epoch 17/50\n",
      "74/74 [==============================] - 84s 1s/step - loss: 0.5497 - accuracy: 0.7921 - val_loss: 0.5926 - val_accuracy: 0.7662\n",
      "Epoch 18/50\n",
      "74/74 [==============================] - 76s 1s/step - loss: 0.5551 - accuracy: 0.7892 - val_loss: 0.5794 - val_accuracy: 0.7645\n",
      "Epoch 19/50\n",
      "74/74 [==============================] - 72s 974ms/step - loss: 0.5563 - accuracy: 0.7943 - val_loss: 0.6080 - val_accuracy: 0.7355\n",
      "Epoch 20/50\n",
      "74/74 [==============================] - 75s 1s/step - loss: 0.5453 - accuracy: 0.8011 - val_loss: 0.6147 - val_accuracy: 0.7662\n",
      "Epoch 21/50\n",
      "74/74 [==============================] - 78s 1s/step - loss: 0.5306 - accuracy: 0.8032 - val_loss: 0.5616 - val_accuracy: 0.7867\n",
      "Epoch 22/50\n",
      "74/74 [==============================] - 78s 1s/step - loss: 0.5451 - accuracy: 0.7943 - val_loss: 0.6047 - val_accuracy: 0.7730\n",
      "Epoch 23/50\n",
      "74/74 [==============================] - 75s 1s/step - loss: 0.5421 - accuracy: 0.7934 - val_loss: 0.5728 - val_accuracy: 0.7833\n",
      "Epoch 24/50\n",
      "74/74 [==============================] - 80s 1s/step - loss: 0.5474 - accuracy: 0.7913 - val_loss: 0.5990 - val_accuracy: 0.7696\n",
      "Epoch 25/50\n",
      "74/74 [==============================] - 78s 1s/step - loss: 0.5232 - accuracy: 0.7985 - val_loss: 0.5612 - val_accuracy: 0.7952\n",
      "Epoch 26/50\n",
      "74/74 [==============================] - 77s 1s/step - loss: 0.5379 - accuracy: 0.7964 - val_loss: 0.5955 - val_accuracy: 0.7628\n",
      "Epoch 27/50\n",
      "74/74 [==============================] - 74s 1s/step - loss: 0.5241 - accuracy: 0.7947 - val_loss: 0.5770 - val_accuracy: 0.7577\n",
      "Epoch 28/50\n",
      "74/74 [==============================] - 78s 1s/step - loss: 0.5324 - accuracy: 0.7917 - val_loss: 0.5595 - val_accuracy: 0.7986\n",
      "Epoch 29/50\n",
      "74/74 [==============================] - 77s 1s/step - loss: 0.5252 - accuracy: 0.8003 - val_loss: 0.5768 - val_accuracy: 0.7867\n",
      "Epoch 30/50\n",
      "74/74 [==============================] - 78s 1s/step - loss: 0.5202 - accuracy: 0.8062 - val_loss: 0.5529 - val_accuracy: 0.7918\n",
      "Epoch 31/50\n",
      "74/74 [==============================] - 74s 998ms/step - loss: 0.5143 - accuracy: 0.8032 - val_loss: 0.5637 - val_accuracy: 0.7935\n",
      "Epoch 32/50\n",
      "74/74 [==============================] - 76s 1s/step - loss: 0.5165 - accuracy: 0.8050 - val_loss: 0.5709 - val_accuracy: 0.7918\n",
      "Epoch 33/50\n",
      "74/74 [==============================] - 75s 1s/step - loss: 0.5033 - accuracy: 0.8096 - val_loss: 0.5507 - val_accuracy: 0.7918\n",
      "Epoch 34/50\n",
      "74/74 [==============================] - 77s 1s/step - loss: 0.5039 - accuracy: 0.8143 - val_loss: 0.5570 - val_accuracy: 0.7747\n",
      "Epoch 35/50\n",
      "74/74 [==============================] - 75s 1s/step - loss: 0.5080 - accuracy: 0.7998 - val_loss: 0.5537 - val_accuracy: 0.7782\n",
      "Epoch 36/50\n",
      "74/74 [==============================] - 75s 1s/step - loss: 0.5170 - accuracy: 0.8003 - val_loss: 0.5457 - val_accuracy: 0.7901\n",
      "Epoch 37/50\n",
      "74/74 [==============================] - 75s 1s/step - loss: 0.5155 - accuracy: 0.7921 - val_loss: 0.5893 - val_accuracy: 0.7679\n",
      "Epoch 38/50\n",
      "74/74 [==============================] - 78s 1s/step - loss: 0.5198 - accuracy: 0.8075 - val_loss: 0.5452 - val_accuracy: 0.7969\n",
      "Epoch 39/50\n",
      "74/74 [==============================] - 76s 1s/step - loss: 0.5088 - accuracy: 0.8058 - val_loss: 0.5516 - val_accuracy: 0.7696\n",
      "Epoch 40/50\n",
      "74/74 [==============================] - 74s 1s/step - loss: 0.5140 - accuracy: 0.8045 - val_loss: 0.5448 - val_accuracy: 0.7935\n",
      "Epoch 41/50\n",
      "74/74 [==============================] - 74s 1s/step - loss: 0.5029 - accuracy: 0.8015 - val_loss: 0.5619 - val_accuracy: 0.7645\n",
      "Epoch 42/50\n",
      "74/74 [==============================] - 74s 1s/step - loss: 0.4942 - accuracy: 0.8207 - val_loss: 0.5433 - val_accuracy: 0.7901\n",
      "Epoch 43/50\n",
      "74/74 [==============================] - 74s 1s/step - loss: 0.5107 - accuracy: 0.8037 - val_loss: 0.5434 - val_accuracy: 0.7935\n",
      "Epoch 44/50\n",
      "74/74 [==============================] - 75s 1s/step - loss: 0.5086 - accuracy: 0.8075 - val_loss: 0.5429 - val_accuracy: 0.7884\n",
      "Epoch 45/50\n",
      "74/74 [==============================] - 78s 1s/step - loss: 0.4929 - accuracy: 0.8122 - val_loss: 0.5625 - val_accuracy: 0.7901\n",
      "Epoch 46/50\n",
      "74/74 [==============================] - 80s 1s/step - loss: 0.5191 - accuracy: 0.8037 - val_loss: 0.5572 - val_accuracy: 0.7713\n",
      "Epoch 47/50\n",
      "74/74 [==============================] - 80s 1s/step - loss: 0.4841 - accuracy: 0.8195 - val_loss: 0.5655 - val_accuracy: 0.7833\n",
      "Epoch 48/50\n",
      "74/74 [==============================] - 80s 1s/step - loss: 0.5119 - accuracy: 0.8071 - val_loss: 0.5681 - val_accuracy: 0.7799\n",
      "Epoch 49/50\n",
      "74/74 [==============================] - 78s 1s/step - loss: 0.4894 - accuracy: 0.8212 - val_loss: 0.5465 - val_accuracy: 0.7986\n",
      "Epoch 50/50\n",
      "74/74 [==============================] - 82s 1s/step - loss: 0.4831 - accuracy: 0.8190 - val_loss: 0.5479 - val_accuracy: 0.7696\n"
     ]
    }
   ],
   "source": [
    "InceptionV3_model_history = InceptionV3_model.fit(X_train, y_train, batch_size = batch_size, epochs = epochs, validation_data =(X_val, y_val) , callbacks = [callback])\n",
    "                                            "
   ]
  },
  {
   "cell_type": "code",
   "execution_count": 78,
   "id": "9c1e6325",
   "metadata": {
    "tags": []
   },
   "outputs": [
    {
     "name": "stderr",
     "output_type": "stream",
     "text": [
      "C:\\ProgramData\\Anaconda3\\lib\\site-packages\\keras\\src\\engine\\training.py:3000: UserWarning: You are saving your model as an HDF5 file via `model.save()`. This file format is considered legacy. We recommend using instead the native Keras format, e.g. `model.save('my_model.keras')`.\n",
      "  saving_api.save_model(\n"
     ]
    }
   ],
   "source": [
    "# save model\n",
    "InceptionV3_model.save('aug_unprocessed_InceptionV3_model1.h5')"
   ]
  },
  {
   "cell_type": "code",
   "execution_count": 79,
   "id": "63529d64",
   "metadata": {},
   "outputs": [
    {
     "data": {
      "image/png": "[encoded data removed]",
      "text/plain": [
       "<Figure size 720x216 with 2 Axes>"
      ]
     },
     "metadata": {
      "needs_background": "light"
     },
     "output_type": "display_data"
    }
   ],
   "source": [
    "plot_acc_loss(InceptionV3_model_history)"
   ]
  },
  {
   "cell_type": "markdown",
   "id": "46d8c1fb",
   "metadata": {},
   "source": [
    "### Evaluate Inception model "
   ]
  },
  {
   "cell_type": "code",
   "execution_count": 80,
   "id": "5d8f4f30",
   "metadata": {
    "tags": []
   },
   "outputs": [
    {
     "name": "stdout",
     "output_type": "stream",
     "text": [
      "23/23 [==============================] - 19s 769ms/step\n"
     ]
    }
   ],
   "source": [
    "# Predict on test set\n",
    "inceptionv3_y_pred = InceptionV3_model.predict(X_test)"
   ]
  },
  {
   "cell_type": "code",
   "execution_count": 81,
   "id": "294dbc73",
   "metadata": {
    "tags": []
   },
   "outputs": [
    {
     "name": "stdout",
     "output_type": "stream",
     "text": [
      "              precision    recall  f1-score   support\n",
      "\n",
      "           0       0.93      0.97      0.95       351\n",
      "           1       0.42      0.54      0.47        68\n",
      "           2       0.68      0.72      0.70       213\n",
      "           3       0.57      0.22      0.32        36\n",
      "           4       0.38      0.22      0.27        65\n",
      "\n",
      "    accuracy                           0.76       733\n",
      "   macro avg       0.60      0.54      0.54       733\n",
      "weighted avg       0.74      0.76      0.74       733\n",
      "\n"
     ]
    }
   ],
   "source": [
    "# Classification report\n",
    "inceptionv3_y_pred_labels = np.argmax(inceptionv3_y_pred, axis=1)\n",
    "print(classification_report(y_test, inceptionv3_y_pred_labels))"
   ]
  },
  {
   "cell_type": "code",
   "execution_count": 82,
   "id": "142b135e",
   "metadata": {
    "tags": []
   },
   "outputs": [
    {
     "data": {
      "text/plain": [
       "array([[341,   8,   2,   0,   0],\n",
       "       [ 12,  37,  16,   0,   3],\n",
       "       [ 12,  32, 154,   2,  13],\n",
       "       [  0,   5,  16,   8,   7],\n",
       "       [  2,   6,  39,   4,  14]], dtype=int64)"
      ]
     },
     "execution_count": 82,
     "metadata": {},
     "output_type": "execute_result"
    }
   ],
   "source": [
    "# Confusion matrix\n",
    "inceptionv3_conf_matrix = confusion_matrix(y_test, inceptionv3_y_pred_labels)\n",
    "\n",
    "inceptionv3_conf_matrix"
   ]
  },
  {
   "cell_type": "code",
   "execution_count": 83,
   "id": "ceb6dcff",
   "metadata": {},
   "outputs": [
    {
     "data": {
      "image/png": "[encoded data removed]",
      "text/plain": [
       "<Figure size 700x400 with 2 Axes>"
      ]
     },
     "metadata": {
      "needs_background": "light"
     },
     "output_type": "display_data"
    }
   ],
   "source": [
    "# confusion matrix\n",
    "confusion_heatmap(inceptionv3_conf_matrix)"
   ]
  },
  {
   "cell_type": "code",
   "execution_count": 84,
   "id": "b775a5d6",
   "metadata": {},
   "outputs": [
    {
     "name": "stdout",
     "output_type": "stream",
     "text": [
      "[351, 68, 213, 36, 65]\n",
      "0.9160232789241356\n"
     ]
    }
   ],
   "source": [
    "# weighted average specificity\n",
    "inception_wa_specificity = weighted_average_specificity(inceptionv3_conf_matrix)\n",
    "print(inception_wa_specificity)"
   ]
  },
  {
   "cell_type": "code",
   "execution_count": 85,
   "id": "6ec511aa",
   "metadata": {},
   "outputs": [
    {
     "name": "stdout",
     "output_type": "stream",
     "text": [
      "0.9343642737930127\n"
     ]
    }
   ],
   "source": [
    "inception_ma_specificity = macro_average_specificity(inceptionv3_conf_matrix)\n",
    "print(inception_ma_specificity)"
   ]
  },
  {
   "cell_type": "code",
   "execution_count": 86,
   "id": "964abd37",
   "metadata": {},
   "outputs": [
    {
     "name": "stdout",
     "output_type": "stream",
     "text": [
      "Micro-Average AUC: 0.8994897408443279\n"
     ]
    }
   ],
   "source": [
    "micro_avg_auc = micro_average_auc(inceptionv3_y_pred)\n",
    "print(\"Micro-Average AUC:\", micro_avg_auc)\n"
   ]
  },
  {
   "cell_type": "code",
   "execution_count": 87,
   "id": "7989d913",
   "metadata": {},
   "outputs": [
    {
     "data": {
      "image/png": "[encoded data removed]",
      "text/plain": [
       "<Figure size 432x288 with 1 Axes>"
      ]
     },
     "metadata": {
      "needs_background": "light"
     },
     "output_type": "display_data"
    }
   ],
   "source": [
    "roc_plot(inceptionv3_y_pred)"
   ]
  },
  {
   "cell_type": "markdown",
   "id": "c34f689e",
   "metadata": {},
   "source": [
    "## Build and train model 2 - ResNet152"
   ]
  },
  {
   "cell_type": "code",
   "execution_count": 88,
   "id": "4e45181e-eca1-4896-87b3-fd669e3c18c7",
   "metadata": {
    "tags": []
   },
   "outputs": [
    {
     "name": "stdout",
     "output_type": "stream",
     "text": [
      "Downloading data from https://storage.googleapis.com/tensorflow/keras-applications/resnet/resnet152_weights_tf_dim_ordering_tf_kernels_notop.h5\n",
      "234698864/234698864 [==============================] - 9s 0us/step\n",
      "Model: \"sequential_1\"\n",
      "_________________________________________________________________\n",
      " Layer (type)                Output Shape              Param #   \n",
      "=================================================================\n",
      " resnet152 (Functional)      (None, 10, 10, 2048)      58370944  \n",
      "                                                                 \n",
      " global_average_pooling2d_1  (None, 2048)              0         \n",
      "  (GlobalAveragePooling2D)                                       \n",
      "                                                                 \n",
      " dropout_1 (Dropout)         (None, 2048)              0         \n",
      "                                                                 \n",
      " dense_1 (Dense)             (None, 5)                 10245     \n",
      "                                                                 \n",
      "=================================================================\n",
      "Total params: 58381189 (222.71 MB)\n",
      "Trainable params: 10245 (40.02 KB)\n",
      "Non-trainable params: 58370944 (222.67 MB)\n",
      "_________________________________________________________________\n",
      "None\n"
     ]
    }
   ],
   "source": [
    "# build and compile model\n",
    "resnet152_model = build_model(ResNet152)"
   ]
  },
  {
   "cell_type": "code",
   "execution_count": null,
   "id": "6c27b489-9879-42f8-9b6d-9e3ed44affbf",
   "metadata": {
    "tags": []
   },
   "outputs": [
    {
     "name": "stdout",
     "output_type": "stream",
     "text": [
      "Epoch 1/50\n",
      "74/74 [==============================] - 334s 4s/step - loss: 1.6178 - accuracy: 0.4213 - val_loss: 1.2717 - val_accuracy: 0.4710\n",
      "Epoch 2/50\n",
      "74/74 [==============================] - 337s 5s/step - loss: 1.4135 - accuracy: 0.4622 - val_loss: 1.2436 - val_accuracy: 0.4710\n",
      "Epoch 3/50\n",
      "74/74 [==============================] - 322s 4s/step - loss: 1.3070 - accuracy: 0.5100 - val_loss: 1.1815 - val_accuracy: 0.5341\n",
      "Epoch 4/50\n",
      "74/74 [==============================] - 337s 5s/step - loss: 1.2822 - accuracy: 0.5288 - val_loss: 1.1458 - val_accuracy: 0.6655\n",
      "Epoch 5/50\n",
      "74/74 [==============================] - 354s 5s/step - loss: 1.2351 - accuracy: 0.5523 - val_loss: 1.1085 - val_accuracy: 0.5904\n",
      "Epoch 6/50\n",
      "74/74 [==============================] - 338s 5s/step - loss: 1.2068 - accuracy: 0.5625 - val_loss: 1.1417 - val_accuracy: 0.5444\n",
      "Epoch 7/50\n",
      "74/74 [==============================] - 332s 5s/step - loss: 1.1644 - accuracy: 0.5839 - val_loss: 1.1391 - val_accuracy: 0.5324\n",
      "Epoch 8/50\n",
      "74/74 [==============================] - 339s 5s/step - loss: 1.1682 - accuracy: 0.5762 - val_loss: 1.0526 - val_accuracy: 0.6553\n",
      "Epoch 9/50\n",
      "74/74 [==============================] - 338s 5s/step - loss: 1.1425 - accuracy: 0.5975 - val_loss: 1.0545 - val_accuracy: 0.6416\n",
      "Epoch 10/50\n",
      "74/74 [==============================] - 324s 4s/step - loss: 1.1579 - accuracy: 0.5834 - val_loss: 1.0623 - val_accuracy: 0.6297\n",
      "Epoch 11/50\n",
      "74/74 [==============================] - 333s 5s/step - loss: 1.1263 - accuracy: 0.5894 - val_loss: 1.0083 - val_accuracy: 0.6519\n",
      "Epoch 12/50\n",
      "74/74 [==============================] - 337s 5s/step - loss: 1.1193 - accuracy: 0.5975 - val_loss: 1.0397 - val_accuracy: 0.6894\n",
      "Epoch 13/50\n",
      "74/74 [==============================] - 337s 5s/step - loss: 1.1202 - accuracy: 0.6099 - val_loss: 1.0880 - val_accuracy: 0.5853\n",
      "Epoch 14/50\n",
      "74/74 [==============================] - 336s 5s/step - loss: 1.1108 - accuracy: 0.5984 - val_loss: 1.0782 - val_accuracy: 0.5768\n",
      "Epoch 15/50\n",
      "74/74 [==============================] - 341s 5s/step - loss: 1.1107 - accuracy: 0.5967 - val_loss: 0.9957 - val_accuracy: 0.6075\n",
      "Epoch 16/50\n",
      "74/74 [==============================] - 331s 4s/step - loss: 1.0776 - accuracy: 0.6167 - val_loss: 1.0646 - val_accuracy: 0.6041\n",
      "Epoch 17/50\n",
      "74/74 [==============================] - 331s 4s/step - loss: 1.0885 - accuracy: 0.6159 - val_loss: 0.9862 - val_accuracy: 0.6143\n",
      "Epoch 18/50\n",
      "74/74 [==============================] - 333s 5s/step - loss: 1.0690 - accuracy: 0.6197 - val_loss: 0.9728 - val_accuracy: 0.6468\n",
      "Epoch 19/50\n",
      "74/74 [==============================] - 335s 5s/step - loss: 1.0699 - accuracy: 0.6180 - val_loss: 0.9773 - val_accuracy: 0.6348\n",
      "Epoch 20/50\n",
      "74/74 [==============================] - 323s 4s/step - loss: 1.0645 - accuracy: 0.6206 - val_loss: 0.9857 - val_accuracy: 0.6672\n",
      "Epoch 21/50\n",
      "74/74 [==============================] - 335s 5s/step - loss: 1.0632 - accuracy: 0.6193 - val_loss: 0.9897 - val_accuracy: 0.5939\n",
      "Epoch 22/50\n",
      "74/74 [==============================] - 335s 5s/step - loss: 1.0545 - accuracy: 0.6248 - val_loss: 1.0312 - val_accuracy: 0.5956\n",
      "Epoch 23/50\n",
      "74/74 [==============================] - 330s 4s/step - loss: 1.0555 - accuracy: 0.6180 - val_loss: 0.9706 - val_accuracy: 0.6877\n",
      "Epoch 24/50\n",
      "74/74 [==============================] - 331s 4s/step - loss: 1.0415 - accuracy: 0.6291 - val_loss: 0.9794 - val_accuracy: 0.6058\n",
      "Epoch 25/50\n",
      "74/74 [==============================] - 335s 5s/step - loss: 1.0482 - accuracy: 0.6291 - val_loss: 0.9859 - val_accuracy: 0.6297\n",
      "Epoch 26/50\n",
      "74/74 [==============================] - 331s 4s/step - loss: 1.0523 - accuracy: 0.6236 - val_loss: 1.0413 - val_accuracy: 0.5870\n",
      "Epoch 27/50\n",
      "74/74 [==============================] - 326s 4s/step - loss: 1.0619 - accuracy: 0.6236 - val_loss: 0.9496 - val_accuracy: 0.6536\n",
      "Epoch 28/50\n",
      "74/74 [==============================] - 333s 5s/step - loss: 1.0516 - accuracy: 0.6201 - val_loss: 0.9253 - val_accuracy: 0.6451\n",
      "Epoch 29/50\n",
      "74/74 [==============================] - 342s 5s/step - loss: 1.0421 - accuracy: 0.6274 - val_loss: 0.9258 - val_accuracy: 0.6758\n",
      "Epoch 30/50\n",
      "74/74 [==============================] - 325s 4s/step - loss: 1.0487 - accuracy: 0.6265 - val_loss: 0.9925 - val_accuracy: 0.5939\n",
      "Epoch 31/50\n",
      "74/74 [==============================] - 349s 5s/step - loss: 1.0386 - accuracy: 0.6155 - val_loss: 0.9732 - val_accuracy: 0.5990\n",
      "Epoch 32/50\n",
      "74/74 [==============================] - 322s 4s/step - loss: 1.0327 - accuracy: 0.6317 - val_loss: 0.9865 - val_accuracy: 0.5853\n",
      "Epoch 33/50\n",
      "74/74 [==============================] - 330s 4s/step - loss: 1.0250 - accuracy: 0.6270 - val_loss: 0.9127 - val_accuracy: 0.6502\n",
      "Epoch 34/50\n",
      "74/74 [==============================] - 336s 5s/step - loss: 1.0129 - accuracy: 0.6334 - val_loss: 0.9118 - val_accuracy: 0.6655\n",
      "Epoch 35/50\n",
      "74/74 [==============================] - 329s 4s/step - loss: 1.0262 - accuracy: 0.6347 - val_loss: 0.9298 - val_accuracy: 0.6672\n",
      "Epoch 36/50\n",
      "74/74 [==============================] - 326s 4s/step - loss: 1.0280 - accuracy: 0.6312 - val_loss: 0.9166 - val_accuracy: 0.6451\n",
      "Epoch 37/50\n",
      "74/74 [==============================] - 334s 5s/step - loss: 1.0403 - accuracy: 0.6172 - val_loss: 0.9324 - val_accuracy: 0.6792\n",
      "Epoch 38/50\n",
      "74/74 [==============================] - 333s 5s/step - loss: 1.0676 - accuracy: 0.6142 - val_loss: 0.9320 - val_accuracy: 0.6212\n",
      "Epoch 39/50\n",
      "74/74 [==============================] - 331s 4s/step - loss: 1.0281 - accuracy: 0.6334 - val_loss: 0.9900 - val_accuracy: 0.6075\n",
      "Epoch 40/50\n",
      "74/74 [==============================] - 328s 4s/step - loss: 1.0283 - accuracy: 0.6334 - val_loss: 0.9209 - val_accuracy: 0.6433\n",
      "Epoch 41/50\n",
      "74/74 [==============================] - 329s 4s/step - loss: 1.0207 - accuracy: 0.6372 - val_loss: 0.9442 - val_accuracy: 0.6536\n",
      "Epoch 42/50\n",
      "16/74 [=====>........................] - ETA: 3:32 - loss: 0.9448 - accuracy: 0.6621"
     ]
    }
   ],
   "source": [
    "# fit resnet model\n",
    "resnet152_model_history = resnet152_model.fit(X_train, y_train, batch_size = batch_size, epochs = epochs, validation_data =(X_val, y_val) ,shuffle= True, callbacks = [callback])\n"
   ]
  },
  {
   "cell_type": "code",
   "execution_count": null,
   "id": "4cd2e00e",
   "metadata": {},
   "outputs": [],
   "source": [
    "# save model\n",
    "resnet152_model.save('aug_unprocessed_ResNet152_model.h5')"
   ]
  },
  {
   "cell_type": "markdown",
   "id": "cc78bf11",
   "metadata": {},
   "source": [
    "plot_acc_loss(resnet152_model_history)"
   ]
  },
  {
   "cell_type": "markdown",
   "id": "2e4c108e",
   "metadata": {},
   "source": [
    "### Evaluate ResNet152 model"
   ]
  },
  {
   "cell_type": "code",
   "execution_count": null,
   "id": "91a7e1af",
   "metadata": {},
   "outputs": [],
   "source": [
    "# Predict on test set\n",
    "resnet152_y_pred = resnet152_model.predict(X_test)"
   ]
  },
  {
   "cell_type": "code",
   "execution_count": null,
   "id": "7485d799",
   "metadata": {},
   "outputs": [],
   "source": [
    "# Classification report\n",
    "resnet152_y_pred_labels = np.argmax(resnet152_y_pred, axis=1)\n",
    "print(classification_report(y_test, resnet152_y_pred_labels))"
   ]
  },
  {
   "cell_type": "code",
   "execution_count": null,
   "id": "0d3fd63c",
   "metadata": {},
   "outputs": [],
   "source": [
    "# Confusion matrix\n",
    "resnet152_conf_matrix = confusion_matrix(y_test, resnet152_y_pred_labels)\n",
    "\n",
    "print(resnet152_conf_matrix)"
   ]
  },
  {
   "cell_type": "code",
   "execution_count": null,
   "id": "81515e45",
   "metadata": {},
   "outputs": [],
   "source": [
    "# confusion matrix heatmap\n",
    "confusion_heatmap(resnet152_conf_matrix)"
   ]
  },
  {
   "cell_type": "code",
   "execution_count": null,
   "id": "51a51ebf",
   "metadata": {},
   "outputs": [],
   "source": [
    "# weighted average specificity\n",
    "resnet152_wa_specificity = weighted_average_specificity(resnet152_conf_matrix)\n",
    "print(resnet152_wa_specificity)"
   ]
  },
  {
   "cell_type": "code",
   "execution_count": null,
   "id": "246f48ab",
   "metadata": {},
   "outputs": [],
   "source": [
    "# macro avg specificity\n",
    "resnet152_ma_specificity = macro_average_specificity(resnet152_conf_matrix)\n",
    "print(resnet152_ma_specificity)"
   ]
  },
  {
   "cell_type": "code",
   "execution_count": null,
   "id": "629b6a07",
   "metadata": {},
   "outputs": [],
   "source": [
    "# micro_avg AUC\n",
    "micro_avg_auc = micro_average_auc(resnet152_y_pred)\n",
    "print(\"ResNet152 Micro-Average AUC:\", micro_avg_auc)\n"
   ]
  },
  {
   "cell_type": "code",
   "execution_count": null,
   "id": "0802d1cc",
   "metadata": {},
   "outputs": [],
   "source": [
    "roc_plot(resnet152_y_pred)"
   ]
  },
  {
   "cell_type": "markdown",
   "id": "69b498d5",
   "metadata": {},
   "source": [
    "## Build and train model 3 - InceptionResNetV2"
   ]
  },
  {
   "cell_type": "code",
   "execution_count": null,
   "id": "61061e36",
   "metadata": {},
   "outputs": [],
   "source": [
    "# build anad compile model\n",
    "inceptionResnet_model = build_model(InceptionResNetV2)"
   ]
  },
  {
   "cell_type": "code",
   "execution_count": null,
   "id": "82eea1b0",
   "metadata": {},
   "outputs": [],
   "source": [
    "# fit resnet model\n",
    "inceptionResnet_model_history = inceptionResnet_model.fit(X_train, y_train, batch_size = batch_size, epochs = epochs, validation_data =(X_val, y_val) ,shuffle= True, callbacks = [callback])\n"
   ]
  },
  {
   "cell_type": "code",
   "execution_count": null,
   "id": "14e20fbf",
   "metadata": {},
   "outputs": [],
   "source": [
    "# save model\n",
    "inceptionResnet_model.save('aug_processed_inceptionResnet_model.h5')"
   ]
  },
  {
   "cell_type": "code",
   "execution_count": null,
   "id": "5cc5a0bb",
   "metadata": {},
   "outputs": [],
   "source": [
    "# plot loss and accuracy\n",
    "plot_acc_loss(inceptionResnet_model_history)"
   ]
  },
  {
   "cell_type": "markdown",
   "id": "39331812",
   "metadata": {},
   "source": [
    "### Evaluate InceptionResNetV2 model"
   ]
  },
  {
   "cell_type": "code",
   "execution_count": null,
   "id": "23728241",
   "metadata": {},
   "outputs": [],
   "source": [
    "# Predict on test set\n",
    "inceptionResnet_y_pred = inceptionResnet_model.predict(X_test)"
   ]
  },
  {
   "cell_type": "code",
   "execution_count": null,
   "id": "255c0054",
   "metadata": {},
   "outputs": [],
   "source": [
    "# Classification report\n",
    "inceptionResnet_y_pred_labels = np.argmax(inceptionResnet_y_pred, axis=1)\n",
    "print(classification_report(y_test, inceptionResnet_y_pred_labels))"
   ]
  },
  {
   "cell_type": "code",
   "execution_count": null,
   "id": "83315606",
   "metadata": {},
   "outputs": [],
   "source": [
    "# Confusion matrix\n",
    "inceptionResnet_conf_matrix = confusion_matrix(y_test, inceptionResnet_y_pred_labels)\n",
    "\n",
    "print(inceptionResnet_conf_matrix)"
   ]
  },
  {
   "cell_type": "code",
   "execution_count": null,
   "id": "e652f8f2",
   "metadata": {},
   "outputs": [],
   "source": [
    "# confusion matrix heatmap\n",
    "confusion_heatmap(inceptionResnet_conf_matrix)"
   ]
  },
  {
   "cell_type": "code",
   "execution_count": null,
   "id": "82dc8a9f",
   "metadata": {},
   "outputs": [],
   "source": [
    "# weighted average specificity\n",
    "inceptionResnet_wa_specificity = weighted_average_specificity(inceptionResnet_conf_matrix)\n",
    "print(inceptionResnet_wa_specificity)"
   ]
  },
  {
   "cell_type": "code",
   "execution_count": null,
   "id": "eb1a48d7",
   "metadata": {},
   "outputs": [],
   "source": [
    "# macro avg specificity\n",
    "inceptionResnet_ma_specificity = macro_average_specificity(inceptionResnet_conf_matrix)\n",
    "print(inceptionResnet_ma_specificity)"
   ]
  },
  {
   "cell_type": "code",
   "execution_count": null,
   "id": "84976089",
   "metadata": {},
   "outputs": [],
   "source": [
    "# micro_avg AUC\n",
    "micro_avg_auc = micro_average_auc(inceptionResnet_y_pred)\n",
    "print(\"InceptionResNet Micro-Average AUC:\", micro_avg_auc)\n"
   ]
  },
  {
   "cell_type": "code",
   "execution_count": null,
   "id": "af2be1b0",
   "metadata": {},
   "outputs": [],
   "source": [
    "roc_plot(inceptionResnet_y_pred)"
   ]
  },
  {
   "cell_type": "code",
   "execution_count": null,
   "id": "f8de7f2d",
   "metadata": {},
   "outputs": [],
   "source": []
  },
  {
   "cell_type": "markdown",
   "id": "e6efae10",
   "metadata": {},
   "source": [
    "## Adaboost"
   ]
  },
  {
   "cell_type": "code",
   "execution_count": null,
   "id": "e77ca76e",
   "metadata": {},
   "outputs": [],
   "source": []
  },
  {
   "cell_type": "code",
   "execution_count": 92,
   "id": "4b20b8e4",
   "metadata": {},
   "outputs": [],
   "source": [
    "model1 = InceptionResNetV2_model1\n",
    "model2 = Inception_model1"
   ]
  },
  {
   "cell_type": "code",
   "execution_count": 93,
   "id": "6393ad77",
   "metadata": {},
   "outputs": [],
   "source": [
    "models = [model1, model2]"
   ]
  },
  {
   "cell_type": "code",
   "execution_count": 125,
   "id": "3ac37c60",
   "metadata": {},
   "outputs": [
    {
     "name": "stdout",
     "output_type": "stream",
     "text": [
      "23/23 [==============================] - 57s 2s/step\n",
      "23/23 [==============================] - 24s 1s/step\n"
     ]
    }
   ],
   "source": [
    "preds = [model.predict(X_test) for model in models]"
   ]
  },
  {
   "cell_type": "code",
   "execution_count": 135,
   "id": "4dc0fb2c",
   "metadata": {},
   "outputs": [],
   "source": [
    "pred = np.array(preds)"
   ]
  },
  {
   "cell_type": "code",
   "execution_count": 129,
   "id": "64c31a84",
   "metadata": {},
   "outputs": [],
   "source": [
    "summed = np.sum(pred3, axis=0)"
   ]
  },
  {
   "cell_type": "code",
   "execution_count": 131,
   "id": "3da5c859",
   "metadata": {},
   "outputs": [],
   "source": [
    "# argmax across classes\n",
    "ensemble_prediction = np.argmax(summed, axis=1)"
   ]
  },
  {
   "cell_type": "code",
   "execution_count": 115,
   "id": "08357b90",
   "metadata": {},
   "outputs": [
    {
     "name": "stdout",
     "output_type": "stream",
     "text": [
      "23/23 [==============================] - 57s 2s/step\n",
      "23/23 [==============================] - 24s 1s/step\n"
     ]
    }
   ],
   "source": [
    "prediction1 = np.array(model1.predict(X_test))\n",
    "prediction2 = np.array(model2.predict(X_test))"
   ]
  },
  {
   "cell_type": "code",
   "execution_count": 122,
   "id": "c0abf7b6",
   "metadata": {},
   "outputs": [],
   "source": [
    "accuracy1 = np.argmax(prediction1, axis=1)\n",
    "accuracy2 = np.argmax(prediction2, axis=1)"
   ]
  },
  {
   "cell_type": "code",
   "execution_count": 137,
   "id": "66839be4",
   "metadata": {},
   "outputs": [],
   "source": [
    "accuracy1 = accuracy_score(y_test, accuracy1)\n",
    "accuracy2 = accuracy_score(y_test, accuracy2 )\n",
    "ensemble_accuracy = accuracy_score(y_test, ensemble_prediction)"
   ]
  },
  {
   "cell_type": "code",
   "execution_count": 112,
   "id": "58072764",
   "metadata": {},
   "outputs": [
    {
     "name": "stdout",
     "output_type": "stream",
     "text": [
      "Accuracy Score for average ensemble =  0.7680763983628922\n"
     ]
    }
   ],
   "source": [
    "print('Accuracy Score for average ensemble = ', ensemble_accuracy)"
   ]
  },
  {
   "cell_type": "code",
   "execution_count": 138,
   "id": "7f2a0a88",
   "metadata": {},
   "outputs": [
    {
     "name": "stdout",
     "output_type": "stream",
     "text": [
      "Accuracy Score for model2 =  0.7530695770804912\n",
      "Accuracy Score for model3 =  0.757162346521146\n",
      "Accuracy Score for average ensemble =  0.7680763983628922\n"
     ]
    }
   ],
   "source": [
    "print('Accuracy Score for model2 = ', accuracy1)\n",
    "print('Accuracy Score for model3 = ', accuracy2)\n",
    "print('Accuracy Score for average ensemble = ', ensemble_accuracy)"
   ]
  },
  {
   "cell_type": "code",
   "execution_count": null,
   "id": "2e3e2cf0",
   "metadata": {},
   "outputs": [],
   "source": []
  },
  {
   "cell_type": "code",
   "execution_count": null,
   "id": "07c44729",
   "metadata": {},
   "outputs": [],
   "source": [
    "## hyperparameter tuning"
   ]
  },
  {
   "cell_type": "code",
   "execution_count": 62,
   "id": "4bf25a50",
   "metadata": {},
   "outputs": [
    {
     "name": "stderr",
     "output_type": "stream",
     "text": [
      "<>:8: SyntaxWarning: 'str' object is not callable; perhaps you missed a comma?\n",
      "<>:8: SyntaxWarning: 'str' object is not callable; perhaps you missed a comma?\n",
      "C:\\Users\\n1109899\\AppData\\Local\\Temp/ipykernel_35800/1531089586.py:8: SyntaxWarning: 'str' object is not callable; perhaps you missed a comma?\n",
      "  model.compile(loss = loss, optimizer ='Adam'(learning_rate = lr), metrics = METRICS)\n"
     ]
    }
   ],
   "source": [
    "def create_model(Dropout,optimizer,learning_rate):\n",
    "    InceptionResNetV2_model1 = Sequential()\n",
    "    InceptionResNetV2_model1.add(InceptionResNetV2_base)\n",
    "    InceptionResNetV2_model1.add(GlobalAveragePooling2D())\n",
    "    InceptionResNetV2_model1.add(Flatten())\n",
    "    InceptionResNetV2_model1.add(Dropout(0.5))\n",
    "    InceptionResNetV2_model1.add(Dense(5, activation = 'softmax'))\n",
    "    model.compile(loss = loss, optimizer = optimizer(learning_rate = lr), metrics = METRICS)\n",
    "    \n",
    "    return InceptionResNetV2_model1\n"
   ]
  },
  {
   "cell_type": "code",
   "execution_count": 63,
   "id": "db2b21bf",
   "metadata": {},
   "outputs": [],
   "source": [
    "param_grid = {'Dropout': [0.2, 0.4, 0.5],\n",
    "              'optimizer': ['Adam', 'SDG'],\n",
    "              'learning_rate': [0.001, 0.0001],\n",
    "              'batch_size' : [16,32]\n",
    "             }"
   ]
  },
  {
   "cell_type": "code",
   "execution_count": 59,
   "id": "2b01196d",
   "metadata": {},
   "outputs": [],
   "source": [
    "model = KerasClassifier(build_fn = create_model, epochs = 20, Dropout = 0.2, learning_rate = 0.001, optimizer = 'Adam' )"
   ]
  },
  {
   "cell_type": "code",
   "execution_count": 60,
   "id": "334612e9",
   "metadata": {},
   "outputs": [],
   "source": [
    "grid_search = GridSearchCV(estimator = model, param_grid = param_grid)"
   ]
  },
  {
   "cell_type": "code",
   "execution_count": 61,
   "id": "d8e10dcb",
   "metadata": {},
   "outputs": [
    {
     "name": "stderr",
     "output_type": "stream",
     "text": [
      "C:\\ProgramData\\Anaconda3\\lib\\site-packages\\scikeras\\wrappers.py:915: UserWarning: ``build_fn`` will be renamed to ``model`` in a future release, at which point use of ``build_fn`` will raise an Error instead.\n",
      "  X, y = self._initialize(X, y)\n",
      "C:\\ProgramData\\Anaconda3\\lib\\site-packages\\scikeras\\wrappers.py:915: UserWarning: ``build_fn`` will be renamed to ``model`` in a future release, at which point use of ``build_fn`` will raise an Error instead.\n",
      "  X, y = self._initialize(X, y)\n",
      "C:\\ProgramData\\Anaconda3\\lib\\site-packages\\scikeras\\wrappers.py:915: UserWarning: ``build_fn`` will be renamed to ``model`` in a future release, at which point use of ``build_fn`` will raise an Error instead.\n",
      "  X, y = self._initialize(X, y)\n",
      "C:\\ProgramData\\Anaconda3\\lib\\site-packages\\scikeras\\wrappers.py:915: UserWarning: ``build_fn`` will be renamed to ``model`` in a future release, at which point use of ``build_fn`` will raise an Error instead.\n",
      "  X, y = self._initialize(X, y)\n",
      "C:\\ProgramData\\Anaconda3\\lib\\site-packages\\scikeras\\wrappers.py:915: UserWarning: ``build_fn`` will be renamed to ``model`` in a future release, at which point use of ``build_fn`` will raise an Error instead.\n",
      "  X, y = self._initialize(X, y)\n",
      "C:\\ProgramData\\Anaconda3\\lib\\site-packages\\scikeras\\wrappers.py:915: UserWarning: ``build_fn`` will be renamed to ``model`` in a future release, at which point use of ``build_fn`` will raise an Error instead.\n",
      "  X, y = self._initialize(X, y)\n",
      "C:\\ProgramData\\Anaconda3\\lib\\site-packages\\scikeras\\wrappers.py:915: UserWarning: ``build_fn`` will be renamed to ``model`` in a future release, at which point use of ``build_fn`` will raise an Error instead.\n",
      "  X, y = self._initialize(X, y)\n",
      "C:\\ProgramData\\Anaconda3\\lib\\site-packages\\scikeras\\wrappers.py:915: UserWarning: ``build_fn`` will be renamed to ``model`` in a future release, at which point use of ``build_fn`` will raise an Error instead.\n",
      "  X, y = self._initialize(X, y)\n",
      "C:\\ProgramData\\Anaconda3\\lib\\site-packages\\scikeras\\wrappers.py:915: UserWarning: ``build_fn`` will be renamed to ``model`` in a future release, at which point use of ``build_fn`` will raise an Error instead.\n",
      "  X, y = self._initialize(X, y)\n",
      "C:\\ProgramData\\Anaconda3\\lib\\site-packages\\scikeras\\wrappers.py:915: UserWarning: ``build_fn`` will be renamed to ``model`` in a future release, at which point use of ``build_fn`` will raise an Error instead.\n",
      "  X, y = self._initialize(X, y)\n",
      "C:\\ProgramData\\Anaconda3\\lib\\site-packages\\scikeras\\wrappers.py:915: UserWarning: ``build_fn`` will be renamed to ``model`` in a future release, at which point use of ``build_fn`` will raise an Error instead.\n",
      "  X, y = self._initialize(X, y)\n",
      "C:\\ProgramData\\Anaconda3\\lib\\site-packages\\scikeras\\wrappers.py:915: UserWarning: ``build_fn`` will be renamed to ``model`` in a future release, at which point use of ``build_fn`` will raise an Error instead.\n",
      "  X, y = self._initialize(X, y)\n",
      "C:\\ProgramData\\Anaconda3\\lib\\site-packages\\scikeras\\wrappers.py:915: UserWarning: ``build_fn`` will be renamed to ``model`` in a future release, at which point use of ``build_fn`` will raise an Error instead.\n",
      "  X, y = self._initialize(X, y)\n",
      "C:\\ProgramData\\Anaconda3\\lib\\site-packages\\scikeras\\wrappers.py:915: UserWarning: ``build_fn`` will be renamed to ``model`` in a future release, at which point use of ``build_fn`` will raise an Error instead.\n",
      "  X, y = self._initialize(X, y)\n",
      "C:\\ProgramData\\Anaconda3\\lib\\site-packages\\scikeras\\wrappers.py:915: UserWarning: ``build_fn`` will be renamed to ``model`` in a future release, at which point use of ``build_fn`` will raise an Error instead.\n",
      "  X, y = self._initialize(X, y)\n",
      "C:\\ProgramData\\Anaconda3\\lib\\site-packages\\scikeras\\wrappers.py:915: UserWarning: ``build_fn`` will be renamed to ``model`` in a future release, at which point use of ``build_fn`` will raise an Error instead.\n",
      "  X, y = self._initialize(X, y)\n",
      "C:\\ProgramData\\Anaconda3\\lib\\site-packages\\scikeras\\wrappers.py:915: UserWarning: ``build_fn`` will be renamed to ``model`` in a future release, at which point use of ``build_fn`` will raise an Error instead.\n",
      "  X, y = self._initialize(X, y)\n",
      "C:\\ProgramData\\Anaconda3\\lib\\site-packages\\scikeras\\wrappers.py:915: UserWarning: ``build_fn`` will be renamed to ``model`` in a future release, at which point use of ``build_fn`` will raise an Error instead.\n",
      "  X, y = self._initialize(X, y)\n",
      "C:\\ProgramData\\Anaconda3\\lib\\site-packages\\scikeras\\wrappers.py:915: UserWarning: ``build_fn`` will be renamed to ``model`` in a future release, at which point use of ``build_fn`` will raise an Error instead.\n",
      "  X, y = self._initialize(X, y)\n",
      "C:\\ProgramData\\Anaconda3\\lib\\site-packages\\scikeras\\wrappers.py:915: UserWarning: ``build_fn`` will be renamed to ``model`` in a future release, at which point use of ``build_fn`` will raise an Error instead.\n",
      "  X, y = self._initialize(X, y)\n",
      "C:\\ProgramData\\Anaconda3\\lib\\site-packages\\scikeras\\wrappers.py:915: UserWarning: ``build_fn`` will be renamed to ``model`` in a future release, at which point use of ``build_fn`` will raise an Error instead.\n",
      "  X, y = self._initialize(X, y)\n",
      "C:\\ProgramData\\Anaconda3\\lib\\site-packages\\scikeras\\wrappers.py:915: UserWarning: ``build_fn`` will be renamed to ``model`` in a future release, at which point use of ``build_fn`` will raise an Error instead.\n",
      "  X, y = self._initialize(X, y)\n",
      "C:\\ProgramData\\Anaconda3\\lib\\site-packages\\scikeras\\wrappers.py:915: UserWarning: ``build_fn`` will be renamed to ``model`` in a future release, at which point use of ``build_fn`` will raise an Error instead.\n",
      "  X, y = self._initialize(X, y)\n",
      "C:\\ProgramData\\Anaconda3\\lib\\site-packages\\scikeras\\wrappers.py:915: UserWarning: ``build_fn`` will be renamed to ``model`` in a future release, at which point use of ``build_fn`` will raise an Error instead.\n",
      "  X, y = self._initialize(X, y)\n",
      "C:\\ProgramData\\Anaconda3\\lib\\site-packages\\scikeras\\wrappers.py:915: UserWarning: ``build_fn`` will be renamed to ``model`` in a future release, at which point use of ``build_fn`` will raise an Error instead.\n",
      "  X, y = self._initialize(X, y)\n",
      "C:\\ProgramData\\Anaconda3\\lib\\site-packages\\scikeras\\wrappers.py:915: UserWarning: ``build_fn`` will be renamed to ``model`` in a future release, at which point use of ``build_fn`` will raise an Error instead.\n",
      "  X, y = self._initialize(X, y)\n",
      "C:\\ProgramData\\Anaconda3\\lib\\site-packages\\scikeras\\wrappers.py:915: UserWarning: ``build_fn`` will be renamed to ``model`` in a future release, at which point use of ``build_fn`` will raise an Error instead.\n",
      "  X, y = self._initialize(X, y)\n",
      "C:\\ProgramData\\Anaconda3\\lib\\site-packages\\scikeras\\wrappers.py:915: UserWarning: ``build_fn`` will be renamed to ``model`` in a future release, at which point use of ``build_fn`` will raise an Error instead.\n",
      "  X, y = self._initialize(X, y)\n",
      "C:\\ProgramData\\Anaconda3\\lib\\site-packages\\scikeras\\wrappers.py:915: UserWarning: ``build_fn`` will be renamed to ``model`` in a future release, at which point use of ``build_fn`` will raise an Error instead.\n",
      "  X, y = self._initialize(X, y)\n",
      "C:\\ProgramData\\Anaconda3\\lib\\site-packages\\scikeras\\wrappers.py:915: UserWarning: ``build_fn`` will be renamed to ``model`` in a future release, at which point use of ``build_fn`` will raise an Error instead.\n",
      "  X, y = self._initialize(X, y)\n",
      "C:\\ProgramData\\Anaconda3\\lib\\site-packages\\scikeras\\wrappers.py:915: UserWarning: ``build_fn`` will be renamed to ``model`` in a future release, at which point use of ``build_fn`` will raise an Error instead.\n",
      "  X, y = self._initialize(X, y)\n",
      "C:\\ProgramData\\Anaconda3\\lib\\site-packages\\scikeras\\wrappers.py:915: UserWarning: ``build_fn`` will be renamed to ``model`` in a future release, at which point use of ``build_fn`` will raise an Error instead.\n",
      "  X, y = self._initialize(X, y)\n",
      "C:\\ProgramData\\Anaconda3\\lib\\site-packages\\scikeras\\wrappers.py:915: UserWarning: ``build_fn`` will be renamed to ``model`` in a future release, at which point use of ``build_fn`` will raise an Error instead.\n",
      "  X, y = self._initialize(X, y)\n",
      "C:\\ProgramData\\Anaconda3\\lib\\site-packages\\scikeras\\wrappers.py:915: UserWarning: ``build_fn`` will be renamed to ``model`` in a future release, at which point use of ``build_fn`` will raise an Error instead.\n",
      "  X, y = self._initialize(X, y)\n",
      "C:\\ProgramData\\Anaconda3\\lib\\site-packages\\scikeras\\wrappers.py:915: UserWarning: ``build_fn`` will be renamed to ``model`` in a future release, at which point use of ``build_fn`` will raise an Error instead.\n",
      "  X, y = self._initialize(X, y)\n",
      "C:\\ProgramData\\Anaconda3\\lib\\site-packages\\scikeras\\wrappers.py:915: UserWarning: ``build_fn`` will be renamed to ``model`` in a future release, at which point use of ``build_fn`` will raise an Error instead.\n",
      "  X, y = self._initialize(X, y)\n",
      "C:\\ProgramData\\Anaconda3\\lib\\site-packages\\scikeras\\wrappers.py:915: UserWarning: ``build_fn`` will be renamed to ``model`` in a future release, at which point use of ``build_fn`` will raise an Error instead.\n",
      "  X, y = self._initialize(X, y)\n",
      "C:\\ProgramData\\Anaconda3\\lib\\site-packages\\scikeras\\wrappers.py:915: UserWarning: ``build_fn`` will be renamed to ``model`` in a future release, at which point use of ``build_fn`` will raise an Error instead.\n",
      "  X, y = self._initialize(X, y)\n",
      "C:\\ProgramData\\Anaconda3\\lib\\site-packages\\scikeras\\wrappers.py:915: UserWarning: ``build_fn`` will be renamed to ``model`` in a future release, at which point use of ``build_fn`` will raise an Error instead.\n",
      "  X, y = self._initialize(X, y)\n",
      "C:\\ProgramData\\Anaconda3\\lib\\site-packages\\scikeras\\wrappers.py:915: UserWarning: ``build_fn`` will be renamed to ``model`` in a future release, at which point use of ``build_fn`` will raise an Error instead.\n",
      "  X, y = self._initialize(X, y)\n",
      "C:\\ProgramData\\Anaconda3\\lib\\site-packages\\scikeras\\wrappers.py:915: UserWarning: ``build_fn`` will be renamed to ``model`` in a future release, at which point use of ``build_fn`` will raise an Error instead.\n",
      "  X, y = self._initialize(X, y)\n",
      "C:\\ProgramData\\Anaconda3\\lib\\site-packages\\scikeras\\wrappers.py:915: UserWarning: ``build_fn`` will be renamed to ``model`` in a future release, at which point use of ``build_fn`` will raise an Error instead.\n",
      "  X, y = self._initialize(X, y)\n",
      "C:\\ProgramData\\Anaconda3\\lib\\site-packages\\scikeras\\wrappers.py:915: UserWarning: ``build_fn`` will be renamed to ``model`` in a future release, at which point use of ``build_fn`` will raise an Error instead.\n",
      "  X, y = self._initialize(X, y)\n",
      "C:\\ProgramData\\Anaconda3\\lib\\site-packages\\scikeras\\wrappers.py:915: UserWarning: ``build_fn`` will be renamed to ``model`` in a future release, at which point use of ``build_fn`` will raise an Error instead.\n",
      "  X, y = self._initialize(X, y)\n",
      "C:\\ProgramData\\Anaconda3\\lib\\site-packages\\scikeras\\wrappers.py:915: UserWarning: ``build_fn`` will be renamed to ``model`` in a future release, at which point use of ``build_fn`` will raise an Error instead.\n",
      "  X, y = self._initialize(X, y)\n",
      "C:\\ProgramData\\Anaconda3\\lib\\site-packages\\scikeras\\wrappers.py:915: UserWarning: ``build_fn`` will be renamed to ``model`` in a future release, at which point use of ``build_fn`` will raise an Error instead.\n",
      "  X, y = self._initialize(X, y)\n",
      "C:\\ProgramData\\Anaconda3\\lib\\site-packages\\scikeras\\wrappers.py:915: UserWarning: ``build_fn`` will be renamed to ``model`` in a future release, at which point use of ``build_fn`` will raise an Error instead.\n",
      "  X, y = self._initialize(X, y)\n",
      "C:\\ProgramData\\Anaconda3\\lib\\site-packages\\scikeras\\wrappers.py:915: UserWarning: ``build_fn`` will be renamed to ``model`` in a future release, at which point use of ``build_fn`` will raise an Error instead.\n",
      "  X, y = self._initialize(X, y)\n",
      "C:\\ProgramData\\Anaconda3\\lib\\site-packages\\scikeras\\wrappers.py:915: UserWarning: ``build_fn`` will be renamed to ``model`` in a future release, at which point use of ``build_fn`` will raise an Error instead.\n",
      "  X, y = self._initialize(X, y)\n",
      "C:\\ProgramData\\Anaconda3\\lib\\site-packages\\scikeras\\wrappers.py:915: UserWarning: ``build_fn`` will be renamed to ``model`` in a future release, at which point use of ``build_fn`` will raise an Error instead.\n",
      "  X, y = self._initialize(X, y)\n",
      "C:\\ProgramData\\Anaconda3\\lib\\site-packages\\scikeras\\wrappers.py:915: UserWarning: ``build_fn`` will be renamed to ``model`` in a future release, at which point use of ``build_fn`` will raise an Error instead.\n",
      "  X, y = self._initialize(X, y)\n",
      "C:\\ProgramData\\Anaconda3\\lib\\site-packages\\scikeras\\wrappers.py:915: UserWarning: ``build_fn`` will be renamed to ``model`` in a future release, at which point use of ``build_fn`` will raise an Error instead.\n",
      "  X, y = self._initialize(X, y)\n",
      "C:\\ProgramData\\Anaconda3\\lib\\site-packages\\scikeras\\wrappers.py:915: UserWarning: ``build_fn`` will be renamed to ``model`` in a future release, at which point use of ``build_fn`` will raise an Error instead.\n",
      "  X, y = self._initialize(X, y)\n",
      "C:\\ProgramData\\Anaconda3\\lib\\site-packages\\scikeras\\wrappers.py:915: UserWarning: ``build_fn`` will be renamed to ``model`` in a future release, at which point use of ``build_fn`` will raise an Error instead.\n",
      "  X, y = self._initialize(X, y)\n",
      "C:\\ProgramData\\Anaconda3\\lib\\site-packages\\scikeras\\wrappers.py:915: UserWarning: ``build_fn`` will be renamed to ``model`` in a future release, at which point use of ``build_fn`` will raise an Error instead.\n",
      "  X, y = self._initialize(X, y)\n",
      "C:\\ProgramData\\Anaconda3\\lib\\site-packages\\scikeras\\wrappers.py:915: UserWarning: ``build_fn`` will be renamed to ``model`` in a future release, at which point use of ``build_fn`` will raise an Error instead.\n",
      "  X, y = self._initialize(X, y)\n",
      "C:\\ProgramData\\Anaconda3\\lib\\site-packages\\scikeras\\wrappers.py:915: UserWarning: ``build_fn`` will be renamed to ``model`` in a future release, at which point use of ``build_fn`` will raise an Error instead.\n",
      "  X, y = self._initialize(X, y)\n",
      "C:\\ProgramData\\Anaconda3\\lib\\site-packages\\scikeras\\wrappers.py:915: UserWarning: ``build_fn`` will be renamed to ``model`` in a future release, at which point use of ``build_fn`` will raise an Error instead.\n",
      "  X, y = self._initialize(X, y)\n",
      "C:\\ProgramData\\Anaconda3\\lib\\site-packages\\scikeras\\wrappers.py:915: UserWarning: ``build_fn`` will be renamed to ``model`` in a future release, at which point use of ``build_fn`` will raise an Error instead.\n",
      "  X, y = self._initialize(X, y)\n",
      "C:\\ProgramData\\Anaconda3\\lib\\site-packages\\scikeras\\wrappers.py:915: UserWarning: ``build_fn`` will be renamed to ``model`` in a future release, at which point use of ``build_fn`` will raise an Error instead.\n",
      "  X, y = self._initialize(X, y)\n",
      "C:\\ProgramData\\Anaconda3\\lib\\site-packages\\scikeras\\wrappers.py:915: UserWarning: ``build_fn`` will be renamed to ``model`` in a future release, at which point use of ``build_fn`` will raise an Error instead.\n",
      "  X, y = self._initialize(X, y)\n",
      "C:\\ProgramData\\Anaconda3\\lib\\site-packages\\scikeras\\wrappers.py:915: UserWarning: ``build_fn`` will be renamed to ``model`` in a future release, at which point use of ``build_fn`` will raise an Error instead.\n",
      "  X, y = self._initialize(X, y)\n",
      "C:\\ProgramData\\Anaconda3\\lib\\site-packages\\scikeras\\wrappers.py:915: UserWarning: ``build_fn`` will be renamed to ``model`` in a future release, at which point use of ``build_fn`` will raise an Error instead.\n",
      "  X, y = self._initialize(X, y)\n",
      "C:\\ProgramData\\Anaconda3\\lib\\site-packages\\scikeras\\wrappers.py:915: UserWarning: ``build_fn`` will be renamed to ``model`` in a future release, at which point use of ``build_fn`` will raise an Error instead.\n",
      "  X, y = self._initialize(X, y)\n",
      "C:\\ProgramData\\Anaconda3\\lib\\site-packages\\scikeras\\wrappers.py:915: UserWarning: ``build_fn`` will be renamed to ``model`` in a future release, at which point use of ``build_fn`` will raise an Error instead.\n",
      "  X, y = self._initialize(X, y)\n",
      "C:\\ProgramData\\Anaconda3\\lib\\site-packages\\scikeras\\wrappers.py:915: UserWarning: ``build_fn`` will be renamed to ``model`` in a future release, at which point use of ``build_fn`` will raise an Error instead.\n",
      "  X, y = self._initialize(X, y)\n",
      "C:\\ProgramData\\Anaconda3\\lib\\site-packages\\scikeras\\wrappers.py:915: UserWarning: ``build_fn`` will be renamed to ``model`` in a future release, at which point use of ``build_fn`` will raise an Error instead.\n",
      "  X, y = self._initialize(X, y)\n",
      "C:\\ProgramData\\Anaconda3\\lib\\site-packages\\scikeras\\wrappers.py:915: UserWarning: ``build_fn`` will be renamed to ``model`` in a future release, at which point use of ``build_fn`` will raise an Error instead.\n",
      "  X, y = self._initialize(X, y)\n",
      "C:\\ProgramData\\Anaconda3\\lib\\site-packages\\scikeras\\wrappers.py:915: UserWarning: ``build_fn`` will be renamed to ``model`` in a future release, at which point use of ``build_fn`` will raise an Error instead.\n",
      "  X, y = self._initialize(X, y)\n",
      "C:\\ProgramData\\Anaconda3\\lib\\site-packages\\scikeras\\wrappers.py:915: UserWarning: ``build_fn`` will be renamed to ``model`` in a future release, at which point use of ``build_fn`` will raise an Error instead.\n",
      "  X, y = self._initialize(X, y)\n",
      "C:\\ProgramData\\Anaconda3\\lib\\site-packages\\scikeras\\wrappers.py:915: UserWarning: ``build_fn`` will be renamed to ``model`` in a future release, at which point use of ``build_fn`` will raise an Error instead.\n",
      "  X, y = self._initialize(X, y)\n",
      "C:\\ProgramData\\Anaconda3\\lib\\site-packages\\scikeras\\wrappers.py:915: UserWarning: ``build_fn`` will be renamed to ``model`` in a future release, at which point use of ``build_fn`` will raise an Error instead.\n",
      "  X, y = self._initialize(X, y)\n",
      "C:\\ProgramData\\Anaconda3\\lib\\site-packages\\scikeras\\wrappers.py:915: UserWarning: ``build_fn`` will be renamed to ``model`` in a future release, at which point use of ``build_fn`` will raise an Error instead.\n",
      "  X, y = self._initialize(X, y)\n",
      "C:\\ProgramData\\Anaconda3\\lib\\site-packages\\scikeras\\wrappers.py:915: UserWarning: ``build_fn`` will be renamed to ``model`` in a future release, at which point use of ``build_fn`` will raise an Error instead.\n",
      "  X, y = self._initialize(X, y)\n",
      "C:\\ProgramData\\Anaconda3\\lib\\site-packages\\scikeras\\wrappers.py:915: UserWarning: ``build_fn`` will be renamed to ``model`` in a future release, at which point use of ``build_fn`` will raise an Error instead.\n",
      "  X, y = self._initialize(X, y)\n",
      "C:\\ProgramData\\Anaconda3\\lib\\site-packages\\scikeras\\wrappers.py:915: UserWarning: ``build_fn`` will be renamed to ``model`` in a future release, at which point use of ``build_fn`` will raise an Error instead.\n",
      "  X, y = self._initialize(X, y)\n",
      "C:\\ProgramData\\Anaconda3\\lib\\site-packages\\scikeras\\wrappers.py:915: UserWarning: ``build_fn`` will be renamed to ``model`` in a future release, at which point use of ``build_fn`` will raise an Error instead.\n",
      "  X, y = self._initialize(X, y)\n",
      "C:\\ProgramData\\Anaconda3\\lib\\site-packages\\scikeras\\wrappers.py:915: UserWarning: ``build_fn`` will be renamed to ``model`` in a future release, at which point use of ``build_fn`` will raise an Error instead.\n",
      "  X, y = self._initialize(X, y)\n",
      "C:\\ProgramData\\Anaconda3\\lib\\site-packages\\scikeras\\wrappers.py:915: UserWarning: ``build_fn`` will be renamed to ``model`` in a future release, at which point use of ``build_fn`` will raise an Error instead.\n",
      "  X, y = self._initialize(X, y)\n",
      "C:\\ProgramData\\Anaconda3\\lib\\site-packages\\scikeras\\wrappers.py:915: UserWarning: ``build_fn`` will be renamed to ``model`` in a future release, at which point use of ``build_fn`` will raise an Error instead.\n",
      "  X, y = self._initialize(X, y)\n",
      "C:\\ProgramData\\Anaconda3\\lib\\site-packages\\scikeras\\wrappers.py:915: UserWarning: ``build_fn`` will be renamed to ``model`` in a future release, at which point use of ``build_fn`` will raise an Error instead.\n",
      "  X, y = self._initialize(X, y)\n",
      "C:\\ProgramData\\Anaconda3\\lib\\site-packages\\scikeras\\wrappers.py:915: UserWarning: ``build_fn`` will be renamed to ``model`` in a future release, at which point use of ``build_fn`` will raise an Error instead.\n",
      "  X, y = self._initialize(X, y)\n",
      "C:\\ProgramData\\Anaconda3\\lib\\site-packages\\scikeras\\wrappers.py:915: UserWarning: ``build_fn`` will be renamed to ``model`` in a future release, at which point use of ``build_fn`` will raise an Error instead.\n",
      "  X, y = self._initialize(X, y)\n",
      "C:\\ProgramData\\Anaconda3\\lib\\site-packages\\scikeras\\wrappers.py:915: UserWarning: ``build_fn`` will be renamed to ``model`` in a future release, at which point use of ``build_fn`` will raise an Error instead.\n",
      "  X, y = self._initialize(X, y)\n",
      "C:\\ProgramData\\Anaconda3\\lib\\site-packages\\scikeras\\wrappers.py:915: UserWarning: ``build_fn`` will be renamed to ``model`` in a future release, at which point use of ``build_fn`` will raise an Error instead.\n",
      "  X, y = self._initialize(X, y)\n",
      "C:\\ProgramData\\Anaconda3\\lib\\site-packages\\scikeras\\wrappers.py:915: UserWarning: ``build_fn`` will be renamed to ``model`` in a future release, at which point use of ``build_fn`` will raise an Error instead.\n",
      "  X, y = self._initialize(X, y)\n",
      "C:\\ProgramData\\Anaconda3\\lib\\site-packages\\scikeras\\wrappers.py:915: UserWarning: ``build_fn`` will be renamed to ``model`` in a future release, at which point use of ``build_fn`` will raise an Error instead.\n",
      "  X, y = self._initialize(X, y)\n",
      "C:\\ProgramData\\Anaconda3\\lib\\site-packages\\scikeras\\wrappers.py:915: UserWarning: ``build_fn`` will be renamed to ``model`` in a future release, at which point use of ``build_fn`` will raise an Error instead.\n",
      "  X, y = self._initialize(X, y)\n",
      "C:\\ProgramData\\Anaconda3\\lib\\site-packages\\scikeras\\wrappers.py:915: UserWarning: ``build_fn`` will be renamed to ``model`` in a future release, at which point use of ``build_fn`` will raise an Error instead.\n",
      "  X, y = self._initialize(X, y)\n",
      "C:\\ProgramData\\Anaconda3\\lib\\site-packages\\scikeras\\wrappers.py:915: UserWarning: ``build_fn`` will be renamed to ``model`` in a future release, at which point use of ``build_fn`` will raise an Error instead.\n",
      "  X, y = self._initialize(X, y)\n",
      "C:\\ProgramData\\Anaconda3\\lib\\site-packages\\scikeras\\wrappers.py:915: UserWarning: ``build_fn`` will be renamed to ``model`` in a future release, at which point use of ``build_fn`` will raise an Error instead.\n",
      "  X, y = self._initialize(X, y)\n",
      "C:\\ProgramData\\Anaconda3\\lib\\site-packages\\scikeras\\wrappers.py:915: UserWarning: ``build_fn`` will be renamed to ``model`` in a future release, at which point use of ``build_fn`` will raise an Error instead.\n",
      "  X, y = self._initialize(X, y)\n",
      "C:\\ProgramData\\Anaconda3\\lib\\site-packages\\scikeras\\wrappers.py:915: UserWarning: ``build_fn`` will be renamed to ``model`` in a future release, at which point use of ``build_fn`` will raise an Error instead.\n",
      "  X, y = self._initialize(X, y)\n",
      "C:\\ProgramData\\Anaconda3\\lib\\site-packages\\scikeras\\wrappers.py:915: UserWarning: ``build_fn`` will be renamed to ``model`` in a future release, at which point use of ``build_fn`` will raise an Error instead.\n",
      "  X, y = self._initialize(X, y)\n",
      "C:\\ProgramData\\Anaconda3\\lib\\site-packages\\scikeras\\wrappers.py:915: UserWarning: ``build_fn`` will be renamed to ``model`` in a future release, at which point use of ``build_fn`` will raise an Error instead.\n",
      "  X, y = self._initialize(X, y)\n",
      "C:\\ProgramData\\Anaconda3\\lib\\site-packages\\scikeras\\wrappers.py:915: UserWarning: ``build_fn`` will be renamed to ``model`` in a future release, at which point use of ``build_fn`` will raise an Error instead.\n",
      "  X, y = self._initialize(X, y)\n",
      "C:\\ProgramData\\Anaconda3\\lib\\site-packages\\scikeras\\wrappers.py:915: UserWarning: ``build_fn`` will be renamed to ``model`` in a future release, at which point use of ``build_fn`` will raise an Error instead.\n",
      "  X, y = self._initialize(X, y)\n",
      "C:\\ProgramData\\Anaconda3\\lib\\site-packages\\scikeras\\wrappers.py:915: UserWarning: ``build_fn`` will be renamed to ``model`` in a future release, at which point use of ``build_fn`` will raise an Error instead.\n",
      "  X, y = self._initialize(X, y)\n",
      "C:\\ProgramData\\Anaconda3\\lib\\site-packages\\scikeras\\wrappers.py:915: UserWarning: ``build_fn`` will be renamed to ``model`` in a future release, at which point use of ``build_fn`` will raise an Error instead.\n",
      "  X, y = self._initialize(X, y)\n",
      "C:\\ProgramData\\Anaconda3\\lib\\site-packages\\scikeras\\wrappers.py:915: UserWarning: ``build_fn`` will be renamed to ``model`` in a future release, at which point use of ``build_fn`` will raise an Error instead.\n",
      "  X, y = self._initialize(X, y)\n",
      "C:\\ProgramData\\Anaconda3\\lib\\site-packages\\scikeras\\wrappers.py:915: UserWarning: ``build_fn`` will be renamed to ``model`` in a future release, at which point use of ``build_fn`` will raise an Error instead.\n",
      "  X, y = self._initialize(X, y)\n",
      "C:\\ProgramData\\Anaconda3\\lib\\site-packages\\scikeras\\wrappers.py:915: UserWarning: ``build_fn`` will be renamed to ``model`` in a future release, at which point use of ``build_fn`` will raise an Error instead.\n",
      "  X, y = self._initialize(X, y)\n",
      "C:\\ProgramData\\Anaconda3\\lib\\site-packages\\scikeras\\wrappers.py:915: UserWarning: ``build_fn`` will be renamed to ``model`` in a future release, at which point use of ``build_fn`` will raise an Error instead.\n",
      "  X, y = self._initialize(X, y)\n",
      "C:\\ProgramData\\Anaconda3\\lib\\site-packages\\scikeras\\wrappers.py:915: UserWarning: ``build_fn`` will be renamed to ``model`` in a future release, at which point use of ``build_fn`` will raise an Error instead.\n",
      "  X, y = self._initialize(X, y)\n",
      "C:\\ProgramData\\Anaconda3\\lib\\site-packages\\scikeras\\wrappers.py:915: UserWarning: ``build_fn`` will be renamed to ``model`` in a future release, at which point use of ``build_fn`` will raise an Error instead.\n",
      "  X, y = self._initialize(X, y)\n",
      "C:\\ProgramData\\Anaconda3\\lib\\site-packages\\scikeras\\wrappers.py:915: UserWarning: ``build_fn`` will be renamed to ``model`` in a future release, at which point use of ``build_fn`` will raise an Error instead.\n",
      "  X, y = self._initialize(X, y)\n",
      "C:\\ProgramData\\Anaconda3\\lib\\site-packages\\scikeras\\wrappers.py:915: UserWarning: ``build_fn`` will be renamed to ``model`` in a future release, at which point use of ``build_fn`` will raise an Error instead.\n",
      "  X, y = self._initialize(X, y)\n",
      "C:\\ProgramData\\Anaconda3\\lib\\site-packages\\scikeras\\wrappers.py:915: UserWarning: ``build_fn`` will be renamed to ``model`` in a future release, at which point use of ``build_fn`` will raise an Error instead.\n",
      "  X, y = self._initialize(X, y)\n",
      "C:\\ProgramData\\Anaconda3\\lib\\site-packages\\scikeras\\wrappers.py:915: UserWarning: ``build_fn`` will be renamed to ``model`` in a future release, at which point use of ``build_fn`` will raise an Error instead.\n",
      "  X, y = self._initialize(X, y)\n",
      "C:\\ProgramData\\Anaconda3\\lib\\site-packages\\scikeras\\wrappers.py:915: UserWarning: ``build_fn`` will be renamed to ``model`` in a future release, at which point use of ``build_fn`` will raise an Error instead.\n",
      "  X, y = self._initialize(X, y)\n",
      "C:\\ProgramData\\Anaconda3\\lib\\site-packages\\scikeras\\wrappers.py:915: UserWarning: ``build_fn`` will be renamed to ``model`` in a future release, at which point use of ``build_fn`` will raise an Error instead.\n",
      "  X, y = self._initialize(X, y)\n",
      "C:\\ProgramData\\Anaconda3\\lib\\site-packages\\scikeras\\wrappers.py:915: UserWarning: ``build_fn`` will be renamed to ``model`` in a future release, at which point use of ``build_fn`` will raise an Error instead.\n",
      "  X, y = self._initialize(X, y)\n",
      "C:\\ProgramData\\Anaconda3\\lib\\site-packages\\scikeras\\wrappers.py:915: UserWarning: ``build_fn`` will be renamed to ``model`` in a future release, at which point use of ``build_fn`` will raise an Error instead.\n",
      "  X, y = self._initialize(X, y)\n",
      "C:\\ProgramData\\Anaconda3\\lib\\site-packages\\scikeras\\wrappers.py:915: UserWarning: ``build_fn`` will be renamed to ``model`` in a future release, at which point use of ``build_fn`` will raise an Error instead.\n",
      "  X, y = self._initialize(X, y)\n",
      "C:\\ProgramData\\Anaconda3\\lib\\site-packages\\scikeras\\wrappers.py:915: UserWarning: ``build_fn`` will be renamed to ``model`` in a future release, at which point use of ``build_fn`` will raise an Error instead.\n",
      "  X, y = self._initialize(X, y)\n",
      "C:\\ProgramData\\Anaconda3\\lib\\site-packages\\scikeras\\wrappers.py:915: UserWarning: ``build_fn`` will be renamed to ``model`` in a future release, at which point use of ``build_fn`` will raise an Error instead.\n",
      "  X, y = self._initialize(X, y)\n",
      "C:\\ProgramData\\Anaconda3\\lib\\site-packages\\scikeras\\wrappers.py:915: UserWarning: ``build_fn`` will be renamed to ``model`` in a future release, at which point use of ``build_fn`` will raise an Error instead.\n",
      "  X, y = self._initialize(X, y)\n",
      "C:\\ProgramData\\Anaconda3\\lib\\site-packages\\scikeras\\wrappers.py:915: UserWarning: ``build_fn`` will be renamed to ``model`` in a future release, at which point use of ``build_fn`` will raise an Error instead.\n",
      "  X, y = self._initialize(X, y)\n",
      "C:\\ProgramData\\Anaconda3\\lib\\site-packages\\scikeras\\wrappers.py:915: UserWarning: ``build_fn`` will be renamed to ``model`` in a future release, at which point use of ``build_fn`` will raise an Error instead.\n",
      "  X, y = self._initialize(X, y)\n",
      "C:\\ProgramData\\Anaconda3\\lib\\site-packages\\scikeras\\wrappers.py:915: UserWarning: ``build_fn`` will be renamed to ``model`` in a future release, at which point use of ``build_fn`` will raise an Error instead.\n",
      "  X, y = self._initialize(X, y)\n"
     ]
    },
    {
     "ename": "ValueError",
     "evalue": "\nAll the 120 fits failed.\nIt is very likely that your model is misconfigured.\nYou can try to debug the error by setting error_score='raise'.\n\nBelow are more details about the failures:\n--------------------------------------------------------------------------------\n120 fits failed with the following error:\nTraceback (most recent call last):\n  File \"C:\\ProgramData\\Anaconda3\\lib\\site-packages\\sklearn\\model_selection\\_validation.py\", line 732, in _fit_and_score\n    estimator.fit(X_train, y_train, **fit_params)\n  File \"C:\\ProgramData\\Anaconda3\\lib\\site-packages\\scikeras\\wrappers.py\", line 1491, in fit\n    super().fit(X=X, y=y, sample_weight=sample_weight, **kwargs)\n  File \"C:\\ProgramData\\Anaconda3\\lib\\site-packages\\scikeras\\wrappers.py\", line 760, in fit\n    self._fit(\n  File \"C:\\ProgramData\\Anaconda3\\lib\\site-packages\\scikeras\\wrappers.py\", line 915, in _fit\n    X, y = self._initialize(X, y)\n  File \"C:\\ProgramData\\Anaconda3\\lib\\site-packages\\scikeras\\wrappers.py\", line 852, in _initialize\n    self.model_ = self._build_keras_model()\n  File \"C:\\ProgramData\\Anaconda3\\lib\\site-packages\\scikeras\\wrappers.py\", line 429, in _build_keras_model\n    model = final_build_fn(**build_params)\nTypeError: create_model() missing 1 required positional argument: 'optimizer'\n",
     "output_type": "error",
     "traceback": [
      "\u001b[1;31m---------------------------------------------------------------------------\u001b[0m",
      "\u001b[1;31mValueError\u001b[0m                                Traceback (most recent call last)",
      "\u001b[1;32m~\\AppData\\Local\\Temp/ipykernel_35800/2688005149.py\u001b[0m in \u001b[0;36m<module>\u001b[1;34m\u001b[0m\n\u001b[1;32m----> 1\u001b[1;33m \u001b[0mgrid_result\u001b[0m \u001b[1;33m=\u001b[0m \u001b[0mgrid_search\u001b[0m\u001b[1;33m.\u001b[0m\u001b[0mfit\u001b[0m\u001b[1;33m(\u001b[0m\u001b[0mX_val\u001b[0m\u001b[1;33m,\u001b[0m\u001b[0my_val\u001b[0m\u001b[1;33m)\u001b[0m\u001b[1;33m\u001b[0m\u001b[1;33m\u001b[0m\u001b[0m\n\u001b[0m",
      "\u001b[1;32mC:\\ProgramData\\Anaconda3\\lib\\site-packages\\sklearn\\base.py\u001b[0m in \u001b[0;36mwrapper\u001b[1;34m(estimator, *args, **kwargs)\u001b[0m\n\u001b[0;32m   1149\u001b[0m                 )\n\u001b[0;32m   1150\u001b[0m             ):\n\u001b[1;32m-> 1151\u001b[1;33m                 \u001b[1;32mreturn\u001b[0m \u001b[0mfit_method\u001b[0m\u001b[1;33m(\u001b[0m\u001b[0mestimator\u001b[0m\u001b[1;33m,\u001b[0m \u001b[1;33m*\u001b[0m\u001b[0margs\u001b[0m\u001b[1;33m,\u001b[0m \u001b[1;33m**\u001b[0m\u001b[0mkwargs\u001b[0m\u001b[1;33m)\u001b[0m\u001b[1;33m\u001b[0m\u001b[1;33m\u001b[0m\u001b[0m\n\u001b[0m\u001b[0;32m   1152\u001b[0m \u001b[1;33m\u001b[0m\u001b[0m\n\u001b[0;32m   1153\u001b[0m         \u001b[1;32mreturn\u001b[0m \u001b[0mwrapper\u001b[0m\u001b[1;33m\u001b[0m\u001b[1;33m\u001b[0m\u001b[0m\n",
      "\u001b[1;32mC:\\ProgramData\\Anaconda3\\lib\\site-packages\\sklearn\\model_selection\\_search.py\u001b[0m in \u001b[0;36mfit\u001b[1;34m(self, X, y, groups, **fit_params)\u001b[0m\n\u001b[0;32m    896\u001b[0m                 \u001b[1;32mreturn\u001b[0m \u001b[0mresults\u001b[0m\u001b[1;33m\u001b[0m\u001b[1;33m\u001b[0m\u001b[0m\n\u001b[0;32m    897\u001b[0m \u001b[1;33m\u001b[0m\u001b[0m\n\u001b[1;32m--> 898\u001b[1;33m             \u001b[0mself\u001b[0m\u001b[1;33m.\u001b[0m\u001b[0m_run_search\u001b[0m\u001b[1;33m(\u001b[0m\u001b[0mevaluate_candidates\u001b[0m\u001b[1;33m)\u001b[0m\u001b[1;33m\u001b[0m\u001b[1;33m\u001b[0m\u001b[0m\n\u001b[0m\u001b[0;32m    899\u001b[0m \u001b[1;33m\u001b[0m\u001b[0m\n\u001b[0;32m    900\u001b[0m             \u001b[1;31m# multimetric is determined here because in the case of a callable\u001b[0m\u001b[1;33m\u001b[0m\u001b[1;33m\u001b[0m\u001b[0m\n",
      "\u001b[1;32mC:\\ProgramData\\Anaconda3\\lib\\site-packages\\sklearn\\model_selection\\_search.py\u001b[0m in \u001b[0;36m_run_search\u001b[1;34m(self, evaluate_candidates)\u001b[0m\n\u001b[0;32m   1417\u001b[0m     \u001b[1;32mdef\u001b[0m \u001b[0m_run_search\u001b[0m\u001b[1;33m(\u001b[0m\u001b[0mself\u001b[0m\u001b[1;33m,\u001b[0m \u001b[0mevaluate_candidates\u001b[0m\u001b[1;33m)\u001b[0m\u001b[1;33m:\u001b[0m\u001b[1;33m\u001b[0m\u001b[1;33m\u001b[0m\u001b[0m\n\u001b[0;32m   1418\u001b[0m         \u001b[1;34m\"\"\"Search all candidates in param_grid\"\"\"\u001b[0m\u001b[1;33m\u001b[0m\u001b[1;33m\u001b[0m\u001b[0m\n\u001b[1;32m-> 1419\u001b[1;33m         \u001b[0mevaluate_candidates\u001b[0m\u001b[1;33m(\u001b[0m\u001b[0mParameterGrid\u001b[0m\u001b[1;33m(\u001b[0m\u001b[0mself\u001b[0m\u001b[1;33m.\u001b[0m\u001b[0mparam_grid\u001b[0m\u001b[1;33m)\u001b[0m\u001b[1;33m)\u001b[0m\u001b[1;33m\u001b[0m\u001b[1;33m\u001b[0m\u001b[0m\n\u001b[0m\u001b[0;32m   1420\u001b[0m \u001b[1;33m\u001b[0m\u001b[0m\n\u001b[0;32m   1421\u001b[0m \u001b[1;33m\u001b[0m\u001b[0m\n",
      "\u001b[1;32mC:\\ProgramData\\Anaconda3\\lib\\site-packages\\sklearn\\model_selection\\_search.py\u001b[0m in \u001b[0;36mevaluate_candidates\u001b[1;34m(candidate_params, cv, more_results)\u001b[0m\n\u001b[0;32m    873\u001b[0m                     )\n\u001b[0;32m    874\u001b[0m \u001b[1;33m\u001b[0m\u001b[0m\n\u001b[1;32m--> 875\u001b[1;33m                 \u001b[0m_warn_or_raise_about_fit_failures\u001b[0m\u001b[1;33m(\u001b[0m\u001b[0mout\u001b[0m\u001b[1;33m,\u001b[0m \u001b[0mself\u001b[0m\u001b[1;33m.\u001b[0m\u001b[0merror_score\u001b[0m\u001b[1;33m)\u001b[0m\u001b[1;33m\u001b[0m\u001b[1;33m\u001b[0m\u001b[0m\n\u001b[0m\u001b[0;32m    876\u001b[0m \u001b[1;33m\u001b[0m\u001b[0m\n\u001b[0;32m    877\u001b[0m                 \u001b[1;31m# For callable self.scoring, the return type is only know after\u001b[0m\u001b[1;33m\u001b[0m\u001b[1;33m\u001b[0m\u001b[0m\n",
      "\u001b[1;32mC:\\ProgramData\\Anaconda3\\lib\\site-packages\\sklearn\\model_selection\\_validation.py\u001b[0m in \u001b[0;36m_warn_or_raise_about_fit_failures\u001b[1;34m(results, error_score)\u001b[0m\n\u001b[0;32m    412\u001b[0m                 \u001b[1;34mf\"Below are more details about the failures:\\n{fit_errors_summary}\"\u001b[0m\u001b[1;33m\u001b[0m\u001b[1;33m\u001b[0m\u001b[0m\n\u001b[0;32m    413\u001b[0m             )\n\u001b[1;32m--> 414\u001b[1;33m             \u001b[1;32mraise\u001b[0m \u001b[0mValueError\u001b[0m\u001b[1;33m(\u001b[0m\u001b[0mall_fits_failed_message\u001b[0m\u001b[1;33m)\u001b[0m\u001b[1;33m\u001b[0m\u001b[1;33m\u001b[0m\u001b[0m\n\u001b[0m\u001b[0;32m    415\u001b[0m \u001b[1;33m\u001b[0m\u001b[0m\n\u001b[0;32m    416\u001b[0m         \u001b[1;32melse\u001b[0m\u001b[1;33m:\u001b[0m\u001b[1;33m\u001b[0m\u001b[1;33m\u001b[0m\u001b[0m\n",
      "\u001b[1;31mValueError\u001b[0m: \nAll the 120 fits failed.\nIt is very likely that your model is misconfigured.\nYou can try to debug the error by setting error_score='raise'.\n\nBelow are more details about the failures:\n--------------------------------------------------------------------------------\n120 fits failed with the following error:\nTraceback (most recent call last):\n  File \"C:\\ProgramData\\Anaconda3\\lib\\site-packages\\sklearn\\model_selection\\_validation.py\", line 732, in _fit_and_score\n    estimator.fit(X_train, y_train, **fit_params)\n  File \"C:\\ProgramData\\Anaconda3\\lib\\site-packages\\scikeras\\wrappers.py\", line 1491, in fit\n    super().fit(X=X, y=y, sample_weight=sample_weight, **kwargs)\n  File \"C:\\ProgramData\\Anaconda3\\lib\\site-packages\\scikeras\\wrappers.py\", line 760, in fit\n    self._fit(\n  File \"C:\\ProgramData\\Anaconda3\\lib\\site-packages\\scikeras\\wrappers.py\", line 915, in _fit\n    X, y = self._initialize(X, y)\n  File \"C:\\ProgramData\\Anaconda3\\lib\\site-packages\\scikeras\\wrappers.py\", line 852, in _initialize\n    self.model_ = self._build_keras_model()\n  File \"C:\\ProgramData\\Anaconda3\\lib\\site-packages\\scikeras\\wrappers.py\", line 429, in _build_keras_model\n    model = final_build_fn(**build_params)\nTypeError: create_model() missing 1 required positional argument: 'optimizer'\n"
     ]
    }
   ],
   "source": [
    "grid_result = grid_search.fit(X_val,y_val)"
   ]
  },
  {
   "cell_type": "code",
   "execution_count": 26,
   "id": "d61d1ebe",
   "metadata": {},
   "outputs": [
    {
     "ename": "AttributeError",
     "evalue": "type object 'KerasClassifier' has no attribute 'estimator'",
     "output_type": "error",
     "traceback": [
      "\u001b[1;31m---------------------------------------------------------------------------\u001b[0m",
      "\u001b[1;31mAttributeError\u001b[0m                            Traceback (most recent call last)",
      "\u001b[1;32m~\\AppData\\Local\\Temp/ipykernel_9604/1445811483.py\u001b[0m in \u001b[0;36m<module>\u001b[1;34m\u001b[0m\n\u001b[1;32m----> 1\u001b[1;33m \u001b[0mKerasClassifier\u001b[0m\u001b[1;33m.\u001b[0m\u001b[0mestimator\u001b[0m\u001b[1;33m.\u001b[0m\u001b[0mget_params\u001b[0m\u001b[1;33m(\u001b[0m\u001b[1;33m)\u001b[0m\u001b[1;33m.\u001b[0m\u001b[0mkeys\u001b[0m\u001b[1;33m(\u001b[0m\u001b[1;33m)\u001b[0m\u001b[1;33m\u001b[0m\u001b[1;33m\u001b[0m\u001b[0m\n\u001b[0m",
      "\u001b[1;31mAttributeError\u001b[0m: type object 'KerasClassifier' has no attribute 'estimator'"
     ]
    }
   ],
   "source": [
    "KerasClassifier.estimator.get_params().keys()"
   ]
  },
  {
   "cell_type": "code",
   "execution_count": 64,
   "id": "ef4edbc8",
   "metadata": {},
   "outputs": [
    {
     "name": "stdout",
     "output_type": "stream",
     "text": [
      "Note: you may need to restart the kernel to use updated packages.\n"
     ]
    }
   ],
   "source": [
    "pip install -q -U keras-tuner"
   ]
  },
  {
   "cell_type": "code",
   "execution_count": 27,
   "id": "1ad82e20",
   "metadata": {},
   "outputs": [],
   "source": [
    "import keras_tuner as kt"
   ]
  },
  {
   "cell_type": "code",
   "execution_count": 28,
   "id": "4987d3df",
   "metadata": {},
   "outputs": [],
   "source": [
    "from tensorflow.keras.optimizers import Adam, SGD"
   ]
  },
  {
   "cell_type": "code",
   "execution_count": 29,
   "id": "765348a0",
   "metadata": {},
   "outputs": [],
   "source": [
    " InceptionResNetV2_base = InceptionResNetV2( weights = 'imagenet', include_top = False, input_shape = (Inception_dims,Inception_dims,colour_channel))"
   ]
  },
  {
   "cell_type": "code",
   "execution_count": 30,
   "id": "8e8ece30",
   "metadata": {},
   "outputs": [],
   "source": [
    "Adam_ = Adam\n",
    "SGD_ = SGD(learning_rate=[0.001, 0.0001])"
   ]
  },
  {
   "cell_type": "code",
   "execution_count": 31,
   "id": "68862b32",
   "metadata": {},
   "outputs": [],
   "source": [
    "def create_model(hp):\n",
    "    \n",
    "    hp_dropout = hp.Choice('Dropout', values = [0.2, 0.4, 0.5])\n",
    "    hp_learning_rate = hp.Choice('learning_rate', values = [0.001, 0.0001])\n",
    "    hp_optimizer = hp.Choice('optimizer', values=[\"Adam\", \"SGD\"])\n",
    "    hp_learning_rate = hp.Choice('learning_rate', values = [0.001, 0.0001], parent_name = 'optimizer', parent_values=[\"Adam\", \"SGD\"])\n",
    "    hp_batch_size = hp.Choice('batch_size', values = [16,32])\n",
    "   \n",
    "    InceptionResNetV2_model1 = Sequential()\n",
    "    InceptionResNetV2_model1.add(InceptionResNetV2_base)\n",
    "    InceptionResNetV2_model1.add(GlobalAveragePooling2D())\n",
    "    InceptionResNetV2_model1.add(Flatten())\n",
    "    InceptionResNetV2_model1.add(Dropout(hp_dropout))\n",
    "    \n",
    "    InceptionResNetV2_model1.add(Dense(5, activation = 'softmax'))\n",
    "    InceptionResNetV2_model1.compile(loss = tf.keras.losses.SparseCategoricalCrossentropy(), optimizer = Adam(learning_rate=hp_learning_rate), metrics = ['accuracy'])\n",
    "       \n",
    "    return InceptionResNetV2_model1"
   ]
  },
  {
   "cell_type": "code",
   "execution_count": 39,
   "id": "d48cfa8d",
   "metadata": {},
   "outputs": [
    {
     "name": "stdout",
     "output_type": "stream",
     "text": [
      "INFO:tensorflow:Reloading Tuner from dir\\x\\tuner0.json\n"
     ]
    }
   ],
   "source": [
    "tuner = kt.Hyperband(create_model, objective = 'val_accuracy',max_epochs = 20, directory ='dir', project_name = 'x')"
   ]
  },
  {
   "cell_type": "code",
   "execution_count": 37,
   "id": "9e7a877c",
   "metadata": {},
   "outputs": [],
   "source": [
    "#stop_early = tf.keras.callbacks.EarlyStopping(monitor='val_loss')"
   ]
  },
  {
   "cell_type": "code",
   "execution_count": null,
   "id": "4c10805b",
   "metadata": {},
   "outputs": [
    {
     "name": "stdout",
     "output_type": "stream",
     "text": [
      "Trial 18 Complete [00h 30m 56s]\n",
      "val_accuracy: 0.6440678238868713\n",
      "\n",
      "Best val_accuracy So Far: 0.8135592937469482\n",
      "Total elapsed time: 05h 03m 35s\n",
      "\n",
      "Search: Running Trial #19\n",
      "\n",
      "Value             |Best Value So Far |Hyperparameter\n",
      "0.4               |0.4               |Dropout\n",
      "0.001             |0.001             |learning_rate\n",
      "Adam              |Adam              |optimizer\n",
      "32                |32                |batch_size\n",
      "20                |7                 |tuner/epochs\n",
      "7                 |0                 |tuner/initial_epoch\n",
      "1                 |1                 |tuner/bracket\n",
      "1                 |0                 |tuner/round\n",
      "0014              |None              |tuner/trial_id\n",
      "\n",
      "Epoch 8/20\n",
      "15/15 [==============================] - 398s 24s/step - loss: 0.1054 - accuracy: 0.9679 - val_loss: 2.5164 - val_accuracy: 0.8051\n",
      "Epoch 9/20\n",
      "15/15 [==============================] - 293s 20s/step - loss: 0.0675 - accuracy: 0.9765 - val_loss: 2.2512 - val_accuracy: 0.7797\n",
      "Epoch 10/20\n",
      "15/15 [==============================] - 276s 18s/step - loss: 0.0998 - accuracy: 0.9679 - val_loss: 3.1373 - val_accuracy: 0.6780\n",
      "Epoch 11/20\n",
      "15/15 [==============================] - 275s 18s/step - loss: 0.0716 - accuracy: 0.9744 - val_loss: 1.9694 - val_accuracy: 0.7119\n",
      "Epoch 12/20\n",
      "15/15 [==============================] - 270s 18s/step - loss: 0.0430 - accuracy: 0.9936 - val_loss: 1.8029 - val_accuracy: 0.6610\n",
      "Epoch 13/20\n",
      "15/15 [==============================] - 275s 18s/step - loss: 0.0537 - accuracy: 0.9872 - val_loss: 2.6650 - val_accuracy: 0.5593\n",
      "Epoch 14/20\n",
      "15/15 [==============================] - 275s 18s/step - loss: 0.0226 - accuracy: 0.9957 - val_loss: 2.1753 - val_accuracy: 0.6186\n",
      "Epoch 15/20\n",
      "14/15 [===========================>..] - ETA: 17s - loss: 0.0090 - accuracy: 0.9978"
     ]
    }
   ],
   "source": [
    "tuner.search(X_val, y_val, epochs=10, validation_split=0.2)"
   ]
  },
  {
   "cell_type": "code",
   "execution_count": null,
   "id": "3bea0167",
   "metadata": {},
   "outputs": [],
   "source": []
  }
 ],
 "metadata": {
  "kernelspec": {
   "display_name": "Python 3 (ipykernel)",
   "language": "python",
   "name": "python3"
  },
  "language_info": {
   "codemirror_mode": {
    "name": "ipython",
    "version": 3
   },
   "file_extension": ".py",
   "mimetype": "text/x-python",
   "name": "python",
   "nbconvert_exporter": "python",
   "pygments_lexer": "ipython3",
   "version": "3.9.7"
  }
 },
 "nbformat": 4,
 "nbformat_minor": 5
}
